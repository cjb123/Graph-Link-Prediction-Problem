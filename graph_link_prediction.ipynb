{
 "cells": [
  {
   "cell_type": "markdown",
   "metadata": {},
   "source": [
    "<p style=\"font-size:32px;text-align:center\"> <b>Social network Graph Link Prediction - Facebook Challenge</b> </p>"
   ]
  },
  {
   "cell_type": "markdown",
   "metadata": {},
   "source": [
    "### Problem statement: \n",
    "Given a directed social graph, have to predict missing links to recommend users (Link Prediction in graph)"
   ]
  },
  {
   "cell_type": "markdown",
   "metadata": {},
   "source": [
    "### Data Overview\n",
    "Taken data from facebook's recruting challenge on kaggle https://www.kaggle.com/c/FacebookRecruiting  \n",
    "data contains two columns source and destination eac edge in graph \n",
    "    - Data columns (total 2 columns):  \n",
    "    - source_node         int64  \n",
    "    - destination_node    int64  "
   ]
  },
  {
   "cell_type": "markdown",
   "metadata": {},
   "source": [
    "### Mapping the problem into supervised learning problem:\n",
    "- Generated training samples of good and bad links from given directed graph and for each link got some features like no of followers, is he followed back, page rank, katz score, adar index, some svd fetures of adj matrix, some weight features etc. and trained ml model based on these features to predict link. \n",
    "- Some reference papers and videos :  \n",
    "    - https://www.cs.cornell.edu/home/kleinber/link-pred.pdf\n",
    "    - https://www3.nd.edu/~dial/publications/lichtenwalter2010new.pdf\n",
    "    - https://kaggle2.blob.core.windows.net/forum-message-attachments/2594/supervised_link_prediction.pdf\n",
    "    - https://www.youtube.com/watch?v=2M77Hgy17cg"
   ]
  },
  {
   "cell_type": "markdown",
   "metadata": {},
   "source": [
    "### Business objectives and constraints:  \n",
    "- No low-latency requirement.\n",
    "- Probability of prediction is useful to recommend ighest probability links"
   ]
  },
  {
   "cell_type": "markdown",
   "metadata": {},
   "source": [
    "### Performance metric for supervised learning:  \n",
    "- Both precision and recall is important so F1 score is good choice\n",
    "- Confusion matrix"
   ]
  },
  {
   "cell_type": "code",
   "execution_count": 1,
   "metadata": {},
   "outputs": [],
   "source": [
    "#Importing Libraries \n",
    "import warnings\n",
    "warnings.filterwarnings(\"ignore\")\n",
    "import csv\n",
    "import pandas as pd \n",
    "import datetime #Convert to unix time\n",
    "import time #Convert to unix time\n",
    "import numpy as np\n",
    "import matplotlib\n",
    "import matplotlib.pylab as plt\n",
    "import seaborn as sns\n",
    "from matplotlib import rcParams#Size of plots\n",
    "from sklearn.cluster import MiniBatchKMeans, KMeans\n",
    "from tqdm import tqdm\n",
    "import math\n",
    "import pickle\n",
    "import os\n",
    "import xgboost as xgb\n",
    "import warnings\n",
    "import networkx as nx\n",
    "import pdb\n",
    "import pickle\n",
    "import random\n",
    "from pandas import HDFStore,DataFrame\n",
    "from scipy.sparse.linalg import svds, eigs\n",
    "from sklearn.ensemble import RandomForestClassifier\n",
    "from sklearn.metrics import f1_score\n",
    "from sklearn.model_selection import RandomizedSearchCV\n",
    "from scipy.stats import randint as randint\n",
    "from scipy.stats import uniform\n",
    "from pandas import read_hdf\n",
    "\n",
    "from sklearn.metrics import roc_curve, auc\n",
    "from sklearn.metrics import confusion_matrix\n",
    "import xgboost as xgb\n"
   ]
  },
  {
   "cell_type": "markdown",
   "metadata": {},
   "source": [
    "<h2> 0. Reading EdgeList from the Dataset</h2>"
   ]
  },
  {
   "cell_type": "code",
   "execution_count": 2,
   "metadata": {},
   "outputs": [
    {
     "name": "stdout",
     "output_type": "stream",
     "text": [
      "Name: \n",
      "Type: DiGraph\n",
      "Number of nodes: 1862220\n",
      "Number of edges: 9437519\n",
      "Average in degree:   5.0679\n",
      "Average out degree:   5.0679\n"
     ]
    }
   ],
   "source": [
    "#reading graph\n",
    "if not os.path.isfile('train_woheader.csv'):\n",
    "    trainData = pd.read_csv('train.csv')\n",
    "    print(trainData[trainData.isna().any(1)])\n",
    "    print(trainData.info())\n",
    "    print(\"Number of diplicate entries: \",sum(trainData.duplicated()))\n",
    "    trainData.to_csv('train_woheader.csv',header=False,index=False)\n",
    "    print(\"saved the graph into file\")\n",
    "else:\n",
    "    g=nx.read_edgelist('train_woheader.csv',delimiter=',',create_using=nx.DiGraph(),nodetype=int)\n",
    "    print(nx.info(g))"
   ]
  },
  {
   "cell_type": "markdown",
   "metadata": {},
   "source": [
    "<h3> 0.1 Samping 50 rows for graph Visualization </h3>"
   ]
  },
  {
   "cell_type": "code",
   "execution_count": 3,
   "metadata": {},
   "outputs": [
    {
     "name": "stderr",
     "output_type": "stream",
     "text": [
      "C:\\ProgramData\\Anaconda3\\lib\\site-packages\\networkx\\drawing\\nx_pylab.py:563: MatplotlibDeprecationWarning: \n",
      "The iterable function was deprecated in Matplotlib 3.1 and will be removed in 3.3. Use np.iterable instead.\n",
      "  if not cb.iterable(width):\n",
      "C:\\ProgramData\\Anaconda3\\lib\\site-packages\\networkx\\drawing\\nx_pylab.py:660: MatplotlibDeprecationWarning: \n",
      "The iterable function was deprecated in Matplotlib 3.1 and will be removed in 3.3. Use np.iterable instead.\n",
      "  if cb.iterable(node_size):  # many node sizes\n",
      "C:\\ProgramData\\Anaconda3\\lib\\site-packages\\networkx\\drawing\\nx_pylab.py:660: MatplotlibDeprecationWarning: \n",
      "The iterable function was deprecated in Matplotlib 3.1 and will be removed in 3.3. Use np.iterable instead.\n",
      "  if cb.iterable(node_size):  # many node sizes\n",
      "C:\\ProgramData\\Anaconda3\\lib\\site-packages\\networkx\\drawing\\nx_pylab.py:660: MatplotlibDeprecationWarning: \n",
      "The iterable function was deprecated in Matplotlib 3.1 and will be removed in 3.3. Use np.iterable instead.\n",
      "  if cb.iterable(node_size):  # many node sizes\n",
      "C:\\ProgramData\\Anaconda3\\lib\\site-packages\\networkx\\drawing\\nx_pylab.py:660: MatplotlibDeprecationWarning: \n",
      "The iterable function was deprecated in Matplotlib 3.1 and will be removed in 3.3. Use np.iterable instead.\n",
      "  if cb.iterable(node_size):  # many node sizes\n",
      "C:\\ProgramData\\Anaconda3\\lib\\site-packages\\networkx\\drawing\\nx_pylab.py:660: MatplotlibDeprecationWarning: \n",
      "The iterable function was deprecated in Matplotlib 3.1 and will be removed in 3.3. Use np.iterable instead.\n",
      "  if cb.iterable(node_size):  # many node sizes\n",
      "C:\\ProgramData\\Anaconda3\\lib\\site-packages\\networkx\\drawing\\nx_pylab.py:660: MatplotlibDeprecationWarning: \n",
      "The iterable function was deprecated in Matplotlib 3.1 and will be removed in 3.3. Use np.iterable instead.\n",
      "  if cb.iterable(node_size):  # many node sizes\n",
      "C:\\ProgramData\\Anaconda3\\lib\\site-packages\\networkx\\drawing\\nx_pylab.py:660: MatplotlibDeprecationWarning: \n",
      "The iterable function was deprecated in Matplotlib 3.1 and will be removed in 3.3. Use np.iterable instead.\n",
      "  if cb.iterable(node_size):  # many node sizes\n",
      "C:\\ProgramData\\Anaconda3\\lib\\site-packages\\networkx\\drawing\\nx_pylab.py:660: MatplotlibDeprecationWarning: \n",
      "The iterable function was deprecated in Matplotlib 3.1 and will be removed in 3.3. Use np.iterable instead.\n",
      "  if cb.iterable(node_size):  # many node sizes\n",
      "C:\\ProgramData\\Anaconda3\\lib\\site-packages\\networkx\\drawing\\nx_pylab.py:660: MatplotlibDeprecationWarning: \n",
      "The iterable function was deprecated in Matplotlib 3.1 and will be removed in 3.3. Use np.iterable instead.\n",
      "  if cb.iterable(node_size):  # many node sizes\n",
      "C:\\ProgramData\\Anaconda3\\lib\\site-packages\\networkx\\drawing\\nx_pylab.py:660: MatplotlibDeprecationWarning: \n",
      "The iterable function was deprecated in Matplotlib 3.1 and will be removed in 3.3. Use np.iterable instead.\n",
      "  if cb.iterable(node_size):  # many node sizes\n",
      "C:\\ProgramData\\Anaconda3\\lib\\site-packages\\networkx\\drawing\\nx_pylab.py:660: MatplotlibDeprecationWarning: \n",
      "The iterable function was deprecated in Matplotlib 3.1 and will be removed in 3.3. Use np.iterable instead.\n",
      "  if cb.iterable(node_size):  # many node sizes\n",
      "C:\\ProgramData\\Anaconda3\\lib\\site-packages\\networkx\\drawing\\nx_pylab.py:660: MatplotlibDeprecationWarning: \n",
      "The iterable function was deprecated in Matplotlib 3.1 and will be removed in 3.3. Use np.iterable instead.\n",
      "  if cb.iterable(node_size):  # many node sizes\n",
      "C:\\ProgramData\\Anaconda3\\lib\\site-packages\\networkx\\drawing\\nx_pylab.py:660: MatplotlibDeprecationWarning: \n",
      "The iterable function was deprecated in Matplotlib 3.1 and will be removed in 3.3. Use np.iterable instead.\n",
      "  if cb.iterable(node_size):  # many node sizes\n",
      "C:\\ProgramData\\Anaconda3\\lib\\site-packages\\networkx\\drawing\\nx_pylab.py:660: MatplotlibDeprecationWarning: \n",
      "The iterable function was deprecated in Matplotlib 3.1 and will be removed in 3.3. Use np.iterable instead.\n",
      "  if cb.iterable(node_size):  # many node sizes\n",
      "C:\\ProgramData\\Anaconda3\\lib\\site-packages\\networkx\\drawing\\nx_pylab.py:660: MatplotlibDeprecationWarning: \n",
      "The iterable function was deprecated in Matplotlib 3.1 and will be removed in 3.3. Use np.iterable instead.\n",
      "  if cb.iterable(node_size):  # many node sizes\n",
      "C:\\ProgramData\\Anaconda3\\lib\\site-packages\\networkx\\drawing\\nx_pylab.py:660: MatplotlibDeprecationWarning: \n",
      "The iterable function was deprecated in Matplotlib 3.1 and will be removed in 3.3. Use np.iterable instead.\n",
      "  if cb.iterable(node_size):  # many node sizes\n",
      "C:\\ProgramData\\Anaconda3\\lib\\site-packages\\networkx\\drawing\\nx_pylab.py:660: MatplotlibDeprecationWarning: \n",
      "The iterable function was deprecated in Matplotlib 3.1 and will be removed in 3.3. Use np.iterable instead.\n",
      "  if cb.iterable(node_size):  # many node sizes\n",
      "C:\\ProgramData\\Anaconda3\\lib\\site-packages\\networkx\\drawing\\nx_pylab.py:660: MatplotlibDeprecationWarning: \n",
      "The iterable function was deprecated in Matplotlib 3.1 and will be removed in 3.3. Use np.iterable instead.\n",
      "  if cb.iterable(node_size):  # many node sizes\n",
      "C:\\ProgramData\\Anaconda3\\lib\\site-packages\\networkx\\drawing\\nx_pylab.py:660: MatplotlibDeprecationWarning: \n",
      "The iterable function was deprecated in Matplotlib 3.1 and will be removed in 3.3. Use np.iterable instead.\n",
      "  if cb.iterable(node_size):  # many node sizes\n",
      "C:\\ProgramData\\Anaconda3\\lib\\site-packages\\networkx\\drawing\\nx_pylab.py:660: MatplotlibDeprecationWarning: \n",
      "The iterable function was deprecated in Matplotlib 3.1 and will be removed in 3.3. Use np.iterable instead.\n",
      "  if cb.iterable(node_size):  # many node sizes\n",
      "C:\\ProgramData\\Anaconda3\\lib\\site-packages\\networkx\\drawing\\nx_pylab.py:660: MatplotlibDeprecationWarning: \n",
      "The iterable function was deprecated in Matplotlib 3.1 and will be removed in 3.3. Use np.iterable instead.\n",
      "  if cb.iterable(node_size):  # many node sizes\n",
      "C:\\ProgramData\\Anaconda3\\lib\\site-packages\\networkx\\drawing\\nx_pylab.py:660: MatplotlibDeprecationWarning: \n",
      "The iterable function was deprecated in Matplotlib 3.1 and will be removed in 3.3. Use np.iterable instead.\n",
      "  if cb.iterable(node_size):  # many node sizes\n",
      "C:\\ProgramData\\Anaconda3\\lib\\site-packages\\networkx\\drawing\\nx_pylab.py:660: MatplotlibDeprecationWarning: \n",
      "The iterable function was deprecated in Matplotlib 3.1 and will be removed in 3.3. Use np.iterable instead.\n",
      "  if cb.iterable(node_size):  # many node sizes\n",
      "C:\\ProgramData\\Anaconda3\\lib\\site-packages\\networkx\\drawing\\nx_pylab.py:660: MatplotlibDeprecationWarning: \n",
      "The iterable function was deprecated in Matplotlib 3.1 and will be removed in 3.3. Use np.iterable instead.\n",
      "  if cb.iterable(node_size):  # many node sizes\n",
      "C:\\ProgramData\\Anaconda3\\lib\\site-packages\\networkx\\drawing\\nx_pylab.py:660: MatplotlibDeprecationWarning: \n",
      "The iterable function was deprecated in Matplotlib 3.1 and will be removed in 3.3. Use np.iterable instead.\n",
      "  if cb.iterable(node_size):  # many node sizes\n",
      "C:\\ProgramData\\Anaconda3\\lib\\site-packages\\networkx\\drawing\\nx_pylab.py:660: MatplotlibDeprecationWarning: \n",
      "The iterable function was deprecated in Matplotlib 3.1 and will be removed in 3.3. Use np.iterable instead.\n",
      "  if cb.iterable(node_size):  # many node sizes\n",
      "C:\\ProgramData\\Anaconda3\\lib\\site-packages\\networkx\\drawing\\nx_pylab.py:660: MatplotlibDeprecationWarning: \n",
      "The iterable function was deprecated in Matplotlib 3.1 and will be removed in 3.3. Use np.iterable instead.\n",
      "  if cb.iterable(node_size):  # many node sizes\n",
      "C:\\ProgramData\\Anaconda3\\lib\\site-packages\\networkx\\drawing\\nx_pylab.py:660: MatplotlibDeprecationWarning: \n",
      "The iterable function was deprecated in Matplotlib 3.1 and will be removed in 3.3. Use np.iterable instead.\n",
      "  if cb.iterable(node_size):  # many node sizes\n",
      "C:\\ProgramData\\Anaconda3\\lib\\site-packages\\networkx\\drawing\\nx_pylab.py:660: MatplotlibDeprecationWarning: \n",
      "The iterable function was deprecated in Matplotlib 3.1 and will be removed in 3.3. Use np.iterable instead.\n",
      "  if cb.iterable(node_size):  # many node sizes\n",
      "C:\\ProgramData\\Anaconda3\\lib\\site-packages\\networkx\\drawing\\nx_pylab.py:660: MatplotlibDeprecationWarning: \n",
      "The iterable function was deprecated in Matplotlib 3.1 and will be removed in 3.3. Use np.iterable instead.\n",
      "  if cb.iterable(node_size):  # many node sizes\n",
      "C:\\ProgramData\\Anaconda3\\lib\\site-packages\\networkx\\drawing\\nx_pylab.py:660: MatplotlibDeprecationWarning: \n",
      "The iterable function was deprecated in Matplotlib 3.1 and will be removed in 3.3. Use np.iterable instead.\n",
      "  if cb.iterable(node_size):  # many node sizes\n"
     ]
    },
    {
     "name": "stderr",
     "output_type": "stream",
     "text": [
      "C:\\ProgramData\\Anaconda3\\lib\\site-packages\\networkx\\drawing\\nx_pylab.py:660: MatplotlibDeprecationWarning: \n",
      "The iterable function was deprecated in Matplotlib 3.1 and will be removed in 3.3. Use np.iterable instead.\n",
      "  if cb.iterable(node_size):  # many node sizes\n",
      "C:\\ProgramData\\Anaconda3\\lib\\site-packages\\networkx\\drawing\\nx_pylab.py:660: MatplotlibDeprecationWarning: \n",
      "The iterable function was deprecated in Matplotlib 3.1 and will be removed in 3.3. Use np.iterable instead.\n",
      "  if cb.iterable(node_size):  # many node sizes\n",
      "C:\\ProgramData\\Anaconda3\\lib\\site-packages\\networkx\\drawing\\nx_pylab.py:660: MatplotlibDeprecationWarning: \n",
      "The iterable function was deprecated in Matplotlib 3.1 and will be removed in 3.3. Use np.iterable instead.\n",
      "  if cb.iterable(node_size):  # many node sizes\n",
      "C:\\ProgramData\\Anaconda3\\lib\\site-packages\\networkx\\drawing\\nx_pylab.py:660: MatplotlibDeprecationWarning: \n",
      "The iterable function was deprecated in Matplotlib 3.1 and will be removed in 3.3. Use np.iterable instead.\n",
      "  if cb.iterable(node_size):  # many node sizes\n",
      "C:\\ProgramData\\Anaconda3\\lib\\site-packages\\networkx\\drawing\\nx_pylab.py:660: MatplotlibDeprecationWarning: \n",
      "The iterable function was deprecated in Matplotlib 3.1 and will be removed in 3.3. Use np.iterable instead.\n",
      "  if cb.iterable(node_size):  # many node sizes\n",
      "C:\\ProgramData\\Anaconda3\\lib\\site-packages\\networkx\\drawing\\nx_pylab.py:660: MatplotlibDeprecationWarning: \n",
      "The iterable function was deprecated in Matplotlib 3.1 and will be removed in 3.3. Use np.iterable instead.\n",
      "  if cb.iterable(node_size):  # many node sizes\n",
      "C:\\ProgramData\\Anaconda3\\lib\\site-packages\\networkx\\drawing\\nx_pylab.py:660: MatplotlibDeprecationWarning: \n",
      "The iterable function was deprecated in Matplotlib 3.1 and will be removed in 3.3. Use np.iterable instead.\n",
      "  if cb.iterable(node_size):  # many node sizes\n",
      "C:\\ProgramData\\Anaconda3\\lib\\site-packages\\networkx\\drawing\\nx_pylab.py:660: MatplotlibDeprecationWarning: \n",
      "The iterable function was deprecated in Matplotlib 3.1 and will be removed in 3.3. Use np.iterable instead.\n",
      "  if cb.iterable(node_size):  # many node sizes\n",
      "C:\\ProgramData\\Anaconda3\\lib\\site-packages\\networkx\\drawing\\nx_pylab.py:660: MatplotlibDeprecationWarning: \n",
      "The iterable function was deprecated in Matplotlib 3.1 and will be removed in 3.3. Use np.iterable instead.\n",
      "  if cb.iterable(node_size):  # many node sizes\n",
      "C:\\ProgramData\\Anaconda3\\lib\\site-packages\\networkx\\drawing\\nx_pylab.py:660: MatplotlibDeprecationWarning: \n",
      "The iterable function was deprecated in Matplotlib 3.1 and will be removed in 3.3. Use np.iterable instead.\n",
      "  if cb.iterable(node_size):  # many node sizes\n",
      "C:\\ProgramData\\Anaconda3\\lib\\site-packages\\networkx\\drawing\\nx_pylab.py:660: MatplotlibDeprecationWarning: \n",
      "The iterable function was deprecated in Matplotlib 3.1 and will be removed in 3.3. Use np.iterable instead.\n",
      "  if cb.iterable(node_size):  # many node sizes\n",
      "C:\\ProgramData\\Anaconda3\\lib\\site-packages\\networkx\\drawing\\nx_pylab.py:660: MatplotlibDeprecationWarning: \n",
      "The iterable function was deprecated in Matplotlib 3.1 and will be removed in 3.3. Use np.iterable instead.\n",
      "  if cb.iterable(node_size):  # many node sizes\n",
      "C:\\ProgramData\\Anaconda3\\lib\\site-packages\\networkx\\drawing\\nx_pylab.py:660: MatplotlibDeprecationWarning: \n",
      "The iterable function was deprecated in Matplotlib 3.1 and will be removed in 3.3. Use np.iterable instead.\n",
      "  if cb.iterable(node_size):  # many node sizes\n",
      "C:\\ProgramData\\Anaconda3\\lib\\site-packages\\networkx\\drawing\\nx_pylab.py:660: MatplotlibDeprecationWarning: \n",
      "The iterable function was deprecated in Matplotlib 3.1 and will be removed in 3.3. Use np.iterable instead.\n",
      "  if cb.iterable(node_size):  # many node sizes\n",
      "C:\\ProgramData\\Anaconda3\\lib\\site-packages\\networkx\\drawing\\nx_pylab.py:660: MatplotlibDeprecationWarning: \n",
      "The iterable function was deprecated in Matplotlib 3.1 and will be removed in 3.3. Use np.iterable instead.\n",
      "  if cb.iterable(node_size):  # many node sizes\n",
      "C:\\ProgramData\\Anaconda3\\lib\\site-packages\\networkx\\drawing\\nx_pylab.py:660: MatplotlibDeprecationWarning: \n",
      "The iterable function was deprecated in Matplotlib 3.1 and will be removed in 3.3. Use np.iterable instead.\n",
      "  if cb.iterable(node_size):  # many node sizes\n",
      "C:\\ProgramData\\Anaconda3\\lib\\site-packages\\networkx\\drawing\\nx_pylab.py:660: MatplotlibDeprecationWarning: \n",
      "The iterable function was deprecated in Matplotlib 3.1 and will be removed in 3.3. Use np.iterable instead.\n",
      "  if cb.iterable(node_size):  # many node sizes\n",
      "C:\\ProgramData\\Anaconda3\\lib\\site-packages\\networkx\\drawing\\nx_pylab.py:660: MatplotlibDeprecationWarning: \n",
      "The iterable function was deprecated in Matplotlib 3.1 and will be removed in 3.3. Use np.iterable instead.\n",
      "  if cb.iterable(node_size):  # many node sizes\n",
      "C:\\ProgramData\\Anaconda3\\lib\\site-packages\\networkx\\drawing\\nx_pylab.py:660: MatplotlibDeprecationWarning: \n",
      "The iterable function was deprecated in Matplotlib 3.1 and will be removed in 3.3. Use np.iterable instead.\n",
      "  if cb.iterable(node_size):  # many node sizes\n"
     ]
    },
    {
     "name": "stdout",
     "output_type": "stream",
     "text": [
      "Name: \n",
      "Type: DiGraph\n",
      "Number of nodes: 66\n",
      "Number of edges: 50\n",
      "Average in degree:   0.7576\n",
      "Average out degree:   0.7576\n"
     ]
    },
    {
     "data": {
      "image/png": "[encoded data removed]",
      "text/plain": [
       "<Figure size 432x288 with 1 Axes>"
      ]
     },
     "metadata": {},
     "output_type": "display_data"
    }
   ],
   "source": [
    "if not os.path.isfile('train_woheader_sample.csv'):\n",
    "    pd.read_csv('train.csv', nrows=50).to_csv('train_woheader_sample.csv',header=False,index=False)\n",
    "    \n",
    "subgraph = nx.read_edgelist('train_woheader_sample.csv',delimiter=',',create_using=nx.DiGraph(),nodetype=int)\n",
    "# https://stackoverflow.com/questions/9402255/drawing-a-huge-graph-with-networkx-and-matplotlib\n",
    "pos = nx.spring_layout(subgraph)\n",
    "nx.draw(subgraph,pos,node_color='#A0CBE2',edge_color='#00bb5e',width=1,edge_cmap=plt.cm.Blues,with_labels=True)\n",
    "plt.savefig(\"graph_sample.pdf\")\n",
    "print(nx.info(subgraph))"
   ]
  },
  {
   "cell_type": "markdown",
   "metadata": {},
   "source": [
    "# 1. Exploratory Data Analysis"
   ]
  },
  {
   "cell_type": "code",
   "execution_count": 4,
   "metadata": {},
   "outputs": [
    {
     "name": "stdout",
     "output_type": "stream",
     "text": [
      "The number of unique persons 1862220\n"
     ]
    }
   ],
   "source": [
    "# No of Unique persons \n",
    "print(\"The number of unique persons\",len(g.nodes()))"
   ]
  },
  {
   "cell_type": "markdown",
   "metadata": {},
   "source": [
    "## 1.1 No of followers for each person"
   ]
  },
  {
   "cell_type": "markdown",
   "metadata": {},
   "source": [
    "<h3> 1.1.1 Indegree count plot </h3>"
   ]
  },
  {
   "cell_type": "code",
   "execution_count": 5,
   "metadata": {},
   "outputs": [
    {
     "data": {
      "image/png": "[encoded data removed]",
      "text/plain": [
       "<Figure size 720x432 with 1 Axes>"
      ]
     },
     "metadata": {},
     "output_type": "display_data"
    }
   ],
   "source": [
    "indegree_dist = list(dict(g.in_degree()).values())\n",
    "indegree_dist.sort()\n",
    "plt.figure(figsize=(10,6))\n",
    "plt.plot(indegree_dist)\n",
    "plt.xlabel('Index No')\n",
    "plt.ylabel('No Of Followers')\n",
    "plt.show()"
   ]
  },
  {
   "cell_type": "markdown",
   "metadata": {},
   "source": []
  },
  {
   "cell_type": "code",
   "execution_count": 6,
   "metadata": {},
   "outputs": [
    {
     "data": {
      "image/png": "[encoded data removed]",
      "text/plain": [
       "<Figure size 720x432 with 1 Axes>"
      ]
     },
     "metadata": {},
     "output_type": "display_data"
    }
   ],
   "source": [
    "plt.figure(figsize=(10,6))\n",
    "plt.plot(indegree_dist[0:1500000])\n",
    "plt.xlabel('Index No')\n",
    "plt.ylabel('No Of Followers')\n",
    "plt.show()"
   ]
  },
  {
   "cell_type": "markdown",
   "metadata": {},
   "source": [
    "<h3> 1.1.2 Box Plot </h3>"
   ]
  },
  {
   "cell_type": "code",
   "execution_count": 7,
   "metadata": {},
   "outputs": [
    {
     "data": {
      "image/png": "[encoded data removed]",
      "text/plain": [
       "<Figure size 432x288 with 1 Axes>"
      ]
     },
     "metadata": {},
     "output_type": "display_data"
    }
   ],
   "source": [
    "plt.boxplot(indegree_dist)\n",
    "plt.ylabel('No Of Followers')\n",
    "plt.show()"
   ]
  },
  {
   "cell_type": "code",
   "execution_count": 8,
   "metadata": {},
   "outputs": [
    {
     "name": "stdout",
     "output_type": "stream",
     "text": [
      "90 percentile value is 12.0\n",
      "91 percentile value is 13.0\n",
      "92 percentile value is 14.0\n",
      "93 percentile value is 15.0\n",
      "94 percentile value is 17.0\n",
      "95 percentile value is 19.0\n",
      "96 percentile value is 21.0\n",
      "97 percentile value is 24.0\n",
      "98 percentile value is 29.0\n",
      "99 percentile value is 40.0\n",
      "100 percentile value is 552.0\n"
     ]
    }
   ],
   "source": [
    "### 90-100 percentile\n",
    "for i in range(0,11):\n",
    "    print(90+i,'percentile value is',np.percentile(indegree_dist,90+i))"
   ]
  },
  {
   "cell_type": "code",
   "execution_count": 9,
   "metadata": {},
   "outputs": [
    {
     "name": "stdout",
     "output_type": "stream",
     "text": [
      "99.1 percentile value is 42.0\n",
      "99.2 percentile value is 44.0\n",
      "99.3 percentile value is 47.0\n",
      "99.4 percentile value is 50.0\n",
      "99.5 percentile value is 55.0\n",
      "99.6 percentile value is 61.0\n",
      "99.7 percentile value is 70.0\n",
      "99.8 percentile value is 84.0\n",
      "99.9 percentile value is 112.0\n",
      "100.0 percentile value is 552.0\n"
     ]
    }
   ],
   "source": [
    "### 99-100 percentile\n",
    "for i in range(10,110,10):\n",
    "    print(99+(i/100),'percentile value is',np.percentile(indegree_dist,99+(i/100)))"
   ]
  },
  {
   "cell_type": "code",
   "execution_count": 10,
   "metadata": {},
   "outputs": [
    {
     "name": "stderr",
     "output_type": "stream",
     "text": [
      "C:\\ProgramData\\Anaconda3\\lib\\site-packages\\seaborn\\distributions.py:218: MatplotlibDeprecationWarning: \n",
      "The 'normed' kwarg was deprecated in Matplotlib 2.1 and will be removed in 3.1. Use 'density' instead.\n",
      "  color=hist_color, **hist_kws)\n"
     ]
    },
    {
     "data": {
      "image/png": "[encoded data removed]",
      "text/plain": [
       "<Figure size 842.4x595.44 with 1 Axes>"
      ]
     },
     "metadata": {},
     "output_type": "display_data"
    }
   ],
   "source": [
    "%matplotlib inline\n",
    "sns.set_style('ticks')\n",
    "fig, ax = plt.subplots()\n",
    "fig.set_size_inches(11.7, 8.27)\n",
    "sns.distplot(indegree_dist, color='#16A085')\n",
    "plt.xlabel('PDF of Indegree')\n",
    "sns.despine()\n",
    "#plt.show()"
   ]
  },
  {
   "cell_type": "markdown",
   "metadata": {},
   "source": [
    "## 1.2 No of people each person is following"
   ]
  },
  {
   "cell_type": "markdown",
   "metadata": {},
   "source": [
    "<h3> 1.2.1 Outdegree count plot </h3>"
   ]
  },
  {
   "cell_type": "code",
   "execution_count": 11,
   "metadata": {},
   "outputs": [
    {
     "data": {
      "image/png": "[encoded data removed]",
      "text/plain": [
       "<Figure size 720x432 with 1 Axes>"
      ]
     },
     "metadata": {},
     "output_type": "display_data"
    }
   ],
   "source": [
    "outdegree_dist = list(dict(g.out_degree()).values())\n",
    "outdegree_dist.sort()\n",
    "plt.figure(figsize=(10,6))\n",
    "plt.plot(outdegree_dist)\n",
    "plt.xlabel('Index No')\n",
    "plt.ylabel('No Of people each person is following')\n",
    "plt.show()"
   ]
  },
  {
   "cell_type": "code",
   "execution_count": 12,
   "metadata": {},
   "outputs": [
    {
     "data": {
      "image/png": "[encoded data removed]",
      "text/plain": [
       "<Figure size 720x432 with 1 Axes>"
      ]
     },
     "metadata": {},
     "output_type": "display_data"
    }
   ],
   "source": [
    "plt.figure(figsize=(10,6))\n",
    "plt.plot(outdegree_dist[0:1500000])\n",
    "plt.xlabel('Index No')\n",
    "plt.ylabel('No Of people each person is following')\n",
    "plt.show()"
   ]
  },
  {
   "cell_type": "markdown",
   "metadata": {},
   "source": [
    "<h3> 1.2.2 Box plot </h3>"
   ]
  },
  {
   "cell_type": "code",
   "execution_count": 13,
   "metadata": {},
   "outputs": [
    {
     "data": {
      "image/png": "[encoded data removed]",
      "text/plain": [
       "<Figure size 432x288 with 1 Axes>"
      ]
     },
     "metadata": {},
     "output_type": "display_data"
    }
   ],
   "source": [
    "plt.boxplot(indegree_dist)\n",
    "plt.ylabel('No Of people each person is following')\n",
    "plt.show()"
   ]
  },
  {
   "cell_type": "code",
   "execution_count": 14,
   "metadata": {},
   "outputs": [
    {
     "name": "stdout",
     "output_type": "stream",
     "text": [
      "90 percentile value is 12.0\n",
      "91 percentile value is 13.0\n",
      "92 percentile value is 14.0\n",
      "93 percentile value is 15.0\n",
      "94 percentile value is 17.0\n",
      "95 percentile value is 19.0\n",
      "96 percentile value is 21.0\n",
      "97 percentile value is 24.0\n",
      "98 percentile value is 29.0\n",
      "99 percentile value is 40.0\n",
      "100 percentile value is 1566.0\n"
     ]
    }
   ],
   "source": [
    "### 90-100 percentile\n",
    "for i in range(0,11):\n",
    "    print(90+i,'percentile value is',np.percentile(outdegree_dist,90+i))"
   ]
  },
  {
   "cell_type": "code",
   "execution_count": 15,
   "metadata": {},
   "outputs": [
    {
     "name": "stdout",
     "output_type": "stream",
     "text": [
      "99.1 percentile value is 42.0\n",
      "99.2 percentile value is 45.0\n",
      "99.3 percentile value is 48.0\n",
      "99.4 percentile value is 52.0\n",
      "99.5 percentile value is 56.0\n",
      "99.6 percentile value is 63.0\n",
      "99.7 percentile value is 73.0\n",
      "99.8 percentile value is 90.0\n",
      "99.9 percentile value is 123.0\n",
      "100.0 percentile value is 1566.0\n"
     ]
    }
   ],
   "source": [
    "### 99-100 percentile\n",
    "for i in range(10,110,10):\n",
    "    print(99+(i/100),'percentile value is',np.percentile(outdegree_dist,99+(i/100)))"
   ]
  },
  {
   "cell_type": "markdown",
   "metadata": {},
   "source": [
    "<h3> 1.2.3 Histogram(PDF) </h3>"
   ]
  },
  {
   "cell_type": "code",
   "execution_count": 16,
   "metadata": {},
   "outputs": [
    {
     "name": "stderr",
     "output_type": "stream",
     "text": [
      "C:\\ProgramData\\Anaconda3\\lib\\site-packages\\seaborn\\distributions.py:218: MatplotlibDeprecationWarning: \n",
      "The 'normed' kwarg was deprecated in Matplotlib 2.1 and will be removed in 3.1. Use 'density' instead.\n",
      "  color=hist_color, **hist_kws)\n"
     ]
    },
    {
     "data": {
      "image/png": "[encoded data removed]",
      "text/plain": [
       "<Figure size 842.4x595.44 with 1 Axes>"
      ]
     },
     "metadata": {},
     "output_type": "display_data"
    }
   ],
   "source": [
    "sns.set_style('ticks')\n",
    "fig, ax = plt.subplots()\n",
    "fig.set_size_inches(11.7, 8.27)\n",
    "sns.distplot(outdegree_dist, color='#16A085')\n",
    "plt.xlabel('PDF of Outdegree')\n",
    "sns.despine()"
   ]
  },
  {
   "cell_type": "code",
   "execution_count": 17,
   "metadata": {},
   "outputs": [
    {
     "name": "stdout",
     "output_type": "stream",
     "text": [
      "No of users not following anyone are 274512 and the percentage is 14.741115442858524\n"
     ]
    }
   ],
   "source": [
    "print('No of users not following anyone are' ,sum(np.array(outdegree_dist)==0),'and the percentage is',\n",
    "                                sum(np.array(outdegree_dist)==0)*100/len(outdegree_dist) )"
   ]
  },
  {
   "cell_type": "code",
   "execution_count": 19,
   "metadata": {},
   "outputs": [
    {
     "name": "stdout",
     "output_type": "stream",
     "text": [
      "No of users having zero followers is 188043 and the percentage is 10.097786512871734\n"
     ]
    }
   ],
   "source": [
    "print('No of users having zero followers is' ,sum(np.array(indegree_dist)==0),'and the percentage is',\n",
    "                                sum(np.array(indegree_dist)==0)*100/len(indegree_dist) )"
   ]
  },
  {
   "cell_type": "code",
   "execution_count": 20,
   "metadata": {},
   "outputs": [
    {
     "name": "stdout",
     "output_type": "stream",
     "text": [
      "No of users not following anyone and also not having any followers are 0\n"
     ]
    }
   ],
   "source": [
    "# .predecessors and .successors are used to find the indegree and outdegree edges of a particular node(i) in a graph(g)\n",
    "count=0\n",
    "for i in g.nodes():\n",
    "    if len(list(g.predecessors(i)))==0 :\n",
    "        if len(list(g.successors(i)))==0:\n",
    "            count+=1\n",
    "print('No of users not following anyone and also not having any followers are',count)"
   ]
  },
  {
   "cell_type": "markdown",
   "metadata": {},
   "source": [
    "## 1.3 both followers + following "
   ]
  },
  {
   "cell_type": "code",
   "execution_count": 21,
   "metadata": {},
   "outputs": [],
   "source": [
    "from collections import Counter\n",
    "dict_in = dict(g.in_degree())\n",
    "dict_out = dict(g.out_degree())\n",
    "d = Counter(dict_in) + Counter(dict_out)\n",
    "in_out_degree = np.array(list(d.values()))"
   ]
  },
  {
   "cell_type": "code",
   "execution_count": 22,
   "metadata": {},
   "outputs": [
    {
     "data": {
      "image/png": "[encoded data removed]",
      "text/plain": [
       "<Figure size 720x432 with 1 Axes>"
      ]
     },
     "metadata": {},
     "output_type": "display_data"
    }
   ],
   "source": [
    "in_out_degree_sort = sorted(in_out_degree)\n",
    "plt.figure(figsize=(10,6))\n",
    "plt.plot(in_out_degree_sort)\n",
    "plt.xlabel('Index No')\n",
    "plt.ylabel('No Of people each person is following + followers')\n",
    "plt.show()"
   ]
  },
  {
   "cell_type": "code",
   "execution_count": 23,
   "metadata": {},
   "outputs": [
    {
     "data": {
      "image/png": "[encoded data removed]",
      "text/plain": [
       "<Figure size 720x432 with 1 Axes>"
      ]
     },
     "metadata": {},
     "output_type": "display_data"
    }
   ],
   "source": [
    "in_out_degree_sort = sorted(in_out_degree)\n",
    "plt.figure(figsize=(10,6))\n",
    "plt.plot(in_out_degree_sort[0:1500000])\n",
    "plt.xlabel('Index No')\n",
    "plt.ylabel('No Of people each person is following + followers')\n",
    "plt.show()"
   ]
  },
  {
   "cell_type": "code",
   "execution_count": 24,
   "metadata": {},
   "outputs": [
    {
     "name": "stdout",
     "output_type": "stream",
     "text": [
      "90 percentile value is 24.0\n",
      "91 percentile value is 26.0\n",
      "92 percentile value is 28.0\n",
      "93 percentile value is 31.0\n",
      "94 percentile value is 33.0\n",
      "95 percentile value is 37.0\n",
      "96 percentile value is 41.0\n",
      "97 percentile value is 48.0\n",
      "98 percentile value is 58.0\n",
      "99 percentile value is 79.0\n",
      "100 percentile value is 1579.0\n"
     ]
    }
   ],
   "source": [
    "### 90-100 percentile\n",
    "for i in range(0,11):\n",
    "    print(90+i,'percentile value is',np.percentile(in_out_degree_sort,90+i))"
   ]
  },
  {
   "cell_type": "code",
   "execution_count": 25,
   "metadata": {},
   "outputs": [
    {
     "name": "stdout",
     "output_type": "stream",
     "text": [
      "99.1 percentile value is 83.0\n",
      "99.2 percentile value is 87.0\n",
      "99.3 percentile value is 93.0\n",
      "99.4 percentile value is 99.0\n",
      "99.5 percentile value is 108.0\n",
      "99.6 percentile value is 120.0\n",
      "99.7 percentile value is 138.0\n",
      "99.8 percentile value is 168.0\n",
      "99.9 percentile value is 221.0\n",
      "100.0 percentile value is 1579.0\n"
     ]
    }
   ],
   "source": [
    "### 99-100 percentile\n",
    "for i in range(10,110,10):\n",
    "    print(99+(i/100),'percentile value is',np.percentile(in_out_degree_sort,99+(i/100)))"
   ]
  },
  {
   "cell_type": "code",
   "execution_count": 26,
   "metadata": {},
   "outputs": [
    {
     "name": "stdout",
     "output_type": "stream",
     "text": [
      "Min of no of followers + following is 1\n",
      "334291  persons having minimum no of followers + following\n",
      "````````````````````````````````````````````````````````````````````````````````````````````````````\n",
      "Max of no of followers + following is 1579\n",
      "1  persons having maximum no of followers + following\n",
      "````````````````````````````````````````````````````````````````````````````````````````````````````\n",
      "No of persons having followers + following less than 10 are 1320326\n",
      "````````````````````````````````````````````````````````````````````````````````````````````````````\n",
      "No of weakly connected components 45558\n",
      "weakly connected components with 2 nodes 32195\n"
     ]
    }
   ],
   "source": [
    "print('Min of no of followers + following is',in_out_degree.min())\n",
    "print(np.sum(in_out_degree==in_out_degree.min()),' persons having minimum no of followers + following')\n",
    "print(\"`\"*100)\n",
    "\n",
    "print('Max of no of followers + following is',in_out_degree.max())\n",
    "print(np.sum(in_out_degree==in_out_degree.max()),' persons having maximum no of followers + following')\n",
    "print(\"`\"*100)\n",
    "\n",
    "print('No of persons having followers + following less than 10 are',np.sum(in_out_degree<10))\n",
    "print(\"`\"*100)\n",
    "\n",
    "print('No of weakly connected components',len(list(nx.weakly_connected_components(g))))\n",
    "count=0\n",
    "for i in list(nx.weakly_connected_components(g)):\n",
    "    if len(i) == 2:\n",
    "        count+=1\n",
    "print('weakly connected components with 2 nodes',count)"
   ]
  },
  {
   "cell_type": "markdown",
   "metadata": {},
   "source": [
    "# 2. Posing a problem as classification problem "
   ]
  },
  {
   "cell_type": "markdown",
   "metadata": {},
   "source": [
    "## 2.1 Generating some edges which are not present in graph for supervised learning  \n",
    "Generated Bad links from graph which are not in graph and whose shortest path is greater than 2. "
   ]
  },
  {
   "cell_type": "code",
   "execution_count": 27,
   "metadata": {},
   "outputs": [
    {
     "name": "stdout",
     "output_type": "stream",
     "text": [
      "Wall time: 32.9 s\n"
     ]
    }
   ],
   "source": [
    "%%time\n",
    "###generating bad edges from given graph\n",
    "if not os.path.isfile('missing_edges_final.p'):\n",
    "    #getting all set of edges\n",
    "    read_data = csv.reader(open('train_woheader.csv','r'))\n",
    "    edges = dict()\n",
    "    for edge in read_data:\n",
    "        edges[(edge[0], edge[1])] = 1\n",
    "            \n",
    "    missing_edges = set([])\n",
    "    while (len(missing_edges)<9437519):\n",
    "        a=random.randint(1, 1862220)\n",
    "        b=random.randint(1, 1862220)\n",
    "        tmp = edges.get((a,b),-1)\n",
    "        if tmp == -1 and a!=b:\n",
    "            try:\n",
    "                if nx.shortest_path_length(g,source=a,target=b) > 2: \n",
    "\n",
    "                    missing_edges.add((a,b))\n",
    "                else:\n",
    "                    continue  \n",
    "            except:  \n",
    "                    missing_edges.add((a,b))              \n",
    "        else:\n",
    "            continue\n",
    "    pickle.dump(missing_edges,open('missing_edges_final.p','wb'))\n",
    "else:\n",
    "    missing_edges = pickle.load(open('missing_edges_final.p','rb'))"
   ]
  },
  {
   "cell_type": "code",
   "execution_count": 28,
   "metadata": {},
   "outputs": [
    {
     "data": {
      "text/plain": [
       "9437519"
      ]
     },
     "execution_count": 28,
     "metadata": {},
     "output_type": "execute_result"
    }
   ],
   "source": [
    "missing_edges = pickle.load(open('missing_edges_final.p','rb'))\n",
    "len(missing_edges)"
   ]
  },
  {
   "cell_type": "markdown",
   "metadata": {},
   "source": [
    "## 2.2 Training and Test data split:  \n",
    "Taking the edges of graph and the missing links and splitting them into train and test sets.We are doing an 80:20 split and we are using RandomSearchcv for optimization which  takes care of cross validation internally from the train data "
   ]
  },
  {
   "cell_type": "code",
   "execution_count": 29,
   "metadata": {},
   "outputs": [
    {
     "name": "stdout",
     "output_type": "stream",
     "text": [
      "deleting ........\n"
     ]
    }
   ],
   "source": [
    "from sklearn.model_selection import train_test_split\n",
    "if (not os.path.isfile('after_eda/train_pos_after_eda.csv')) and (not os.path.isfile('after_eda/test_pos_after_eda.csv')):\n",
    "    #reading total data df\n",
    "    df_pos = pd.read_csv('train.csv')\n",
    "    df_neg = pd.DataFrame(list(missing_edges), columns=['source_node', 'destination_node'])\n",
    "    \n",
    "    print(\"Number of nodes in the graph with edges\", df_pos.shape[0])\n",
    "    print(\"Number of nodes in the graph without edges\", df_neg.shape[0])\n",
    "    \n",
    "    #Trian test split \n",
    "    #Spiltted data into 80-20 \n",
    "    #positive links and negative links seperatly because we need positive training data only for creating graph \n",
    "    #and for feature generation\n",
    "    X_train_pos, X_test_pos, y_train_pos, y_test_pos  = train_test_split(df_pos,np.ones(len(df_pos)),test_size=0.2, random_state=9)\n",
    "    X_train_neg, X_test_neg, y_train_neg, y_test_neg  = train_test_split(df_neg,np.zeros(len(df_neg)),test_size=0.2, random_state=9)\n",
    "    \n",
    "    print('~'*100)\n",
    "    print(\"Number of nodes in the train data graph with edges\", X_train_pos.shape[0],\"=\",y_train_pos.shape[0])\n",
    "    print(\"Number of nodes in the train data graph without edges\", X_train_neg.shape[0],\"=\", y_train_neg.shape[0])\n",
    "    print('~'*100)\n",
    "    print(\"Number of nodes in the test data graph with edges\", X_test_pos.shape[0],\"=\",y_test_pos.shape[0])\n",
    "    print(\"Number of nodes in the test data graph without edges\", X_test_neg.shape[0],\"=\",y_test_neg.shape[0])\n",
    "\n",
    "    #removing header and saving\n",
    "    X_train_pos.to_csv('after_eda/train_pos_after_eda.csv',header=False, index=False)\n",
    "    X_test_pos.to_csv('after_eda/test_pos_after_eda.csv',header=False, index=False)\n",
    "    X_train_neg.to_csv('after_eda/train_neg_after_eda.csv',header=False, index=False)\n",
    "    X_test_neg.to_csv('after_eda/test_neg_after_eda.csv',header=False, index=False)\n",
    "else:\n",
    "    #Graph from Training data only \n",
    "    print('deleting ........')\n",
    "#     del missing_edges"
   ]
  },
  {
   "cell_type": "markdown",
   "metadata": {},
   "source": [
    "## 2.3:  Analyzing Train and test data"
   ]
  },
  {
   "cell_type": "code",
   "execution_count": 2,
   "metadata": {},
   "outputs": [
    {
     "name": "stdout",
     "output_type": "stream",
     "text": [
      "Name: \n",
      "Type: DiGraph\n",
      "Number of nodes: 1780722\n",
      "Number of edges: 7550015\n",
      "Average in degree:   4.2399\n",
      "Average out degree:   4.2399\n",
      "Name: \n",
      "Type: DiGraph\n",
      "Number of nodes: 1144623\n",
      "Number of edges: 1887504\n",
      "Average in degree:   1.6490\n",
      "Average out degree:   1.6490\n",
      "no of people common in train and test --  1063125\n",
      "no of people present in train but not present in test --  717597\n",
      "no of people present in test but not present in train --  81498\n",
      " % of people not there in Train but exist in total Test data are 7.1200735962845405 %\n"
     ]
    }
   ],
   "source": [
    "train_graph = nx.read_edgelist('after_eda/train_pos_after_eda.csv',delimiter=',',create_using=nx.DiGraph(),nodetype=int)\n",
    "test_graph = nx.read_edgelist('after_eda/test_pos_after_eda.csv',delimiter=',',create_using=nx.DiGraph(),nodetype=int)\n",
    "print(nx.info(train_graph))\n",
    "print(nx.info(test_graph))\n",
    "\n",
    "# finding the unique nodes in the both train and test graphs\n",
    "train_nodes_pos = set(train_graph.nodes())\n",
    "test_nodes_pos = set(test_graph.nodes())\n",
    "\n",
    "train_test_C = len(train_nodes_pos.intersection(test_nodes_pos))\n",
    "train_test_N = len(train_nodes_pos - test_nodes_pos)\n",
    "test_train_N = len(test_nodes_pos - train_nodes_pos)\n",
    "\n",
    "print('no of people common in train and test -- ',train_test_C)\n",
    "print('no of people present in train but not present in test -- ',train_test_N)\n",
    "\n",
    "print('no of people present in test but not present in train -- ',test_train_N)\n",
    "print(' % of people not there in Train but exist in total Test data are {} %'.format(test_train_N/len(test_nodes_pos)*100))"
   ]
  },
  {
   "cell_type": "markdown",
   "metadata": {},
   "source": [
    "<h4> 2.2.1 Combining the positive and negative edges together to form the total data with positive and negative class.</h4>\n",
    "\n",
    "-- So it becomes a binary classification problem where class 1 denotes edges are present and class 0 denotes egdes are missing.Given any two edges we need to predict whether a link should be present or not."
   ]
  },
  {
   "cell_type": "code",
   "execution_count": 26,
   "metadata": {},
   "outputs": [],
   "source": [
    "#final train and test data sets\n",
    "if (not os.path.isfile('after_eda/train_after_eda.csv')) and \\\n",
    "(not os.path.isfile('after_eda/test_after_eda.csv')) and \\\n",
    "(not os.path.isfile('after_eda/train_y.csv')) and \\\n",
    "(not os.path.isfile('after_eda/test_y.csv')) and \\\n",
    "(os.path.isfile('after_eda/train_pos_after_eda.csv')) and \\\n",
    "(os.path.isfile('after_eda/test_pos_after_eda.csv')) and \\\n",
    "(os.path.isfile('after_eda/train_neg_after_eda.csv')) and \\\n",
    "(os.path.isfile('after_eda/test_neg_after_eda.csv')):\n",
    "    \n",
    "    X_train_pos = pd.read_csv('after_eda/train_pos_after_eda.csv', names=['source_node', 'destination_node'])\n",
    "    X_test_pos = pd.read_csv('after_eda/test_pos_after_eda.csv', names=['source_node', 'destination_node'])\n",
    "    X_train_neg = pd.read_csv('after_eda/train_neg_after_eda.csv', names=['source_node', 'destination_node'])\n",
    "    X_test_neg = pd.read_csv('after_eda/test_neg_after_eda.csv', names=['source_node', 'destination_node'])\n",
    "\n",
    "    print('='*60)\n",
    "    print(\"Number of nodes in the train data graph with edges\", X_train_pos.shape[0])\n",
    "    print(\"Number of nodes in the train data graph without edges\", X_train_neg.shape[0])\n",
    "    print('='*60)\n",
    "    print(\"Number of nodes in the test data graph with edges\", X_test_pos.shape[0])\n",
    "    print(\"Number of nodes in the test data graph without edges\", X_test_neg.shape[0])\n",
    "\n",
    "    X_train = X_train_pos.append(X_train_neg,ignore_index=True)\n",
    "    y_train = np.concatenate((y_train_pos,y_train_neg))\n",
    "    X_test = X_test_pos.append(X_test_neg,ignore_index=True)\n",
    "    y_test = np.concatenate((y_test_pos,y_test_neg)) \n",
    "    \n",
    "    X_train.to_csv('after_eda/train_after_eda.csv',header=False,index=False)\n",
    "    X_test.to_csv('after_eda/test_after_eda.csv',header=False,index=False)\n",
    "    pd.DataFrame(y_train.astype(int)).to_csv('after_eda/train_y.csv',header=False,index=False)\n",
    "    pd.DataFrame(y_test.astype(int)).to_csv('after_eda/test_y.csv',header=False,index=False)"
   ]
  },
  {
   "cell_type": "code",
   "execution_count": 3,
   "metadata": {},
   "outputs": [],
   "source": [
    "X_train = pd.read_csv(\"after_eda/train_after_eda.csv\")\n",
    "X_test = pd.read_csv(\"after_eda/test_after_eda.csv\")\n",
    "y_train = pd.read_csv(\"after_eda/train_y.csv\")\n",
    "y_test = pd.read_csv(\"after_eda/test_y.csv\")"
   ]
  },
  {
   "cell_type": "code",
   "execution_count": 4,
   "metadata": {},
   "outputs": [
    {
     "name": "stdout",
     "output_type": "stream",
     "text": [
      "Data points in train data (15100029, 2)\n",
      "Data points in test data (3775007, 2)\n",
      "Shape of target variable in train (15100029, 1)\n",
      "Shape of target variable in test (3775007, 1)\n"
     ]
    }
   ],
   "source": [
    "print(\"Data points in train data\",X_train.shape)\n",
    "print(\"Data points in test data\",X_test.shape)\n",
    "print(\"Shape of target variable in train\",y_train.shape)\n",
    "print(\"Shape of target variable in test\", y_test.shape)"
   ]
  },
  {
   "cell_type": "markdown",
   "metadata": {},
   "source": [
    " # 3. Similarity measures"
   ]
  },
  {
   "cell_type": "markdown",
   "metadata": {},
   "source": [
    "## 3.1 Jaccard Distance:\n",
    "http://www.statisticshowto.com/jaccard-index/"
   ]
  },
  {
   "cell_type": "markdown",
   "metadata": {},
   "source": [
    "\\begin{equation}\n",
    "j = \\frac{|X\\cap Y|}{|X \\cup Y|} \n",
    "\\end{equation}"
   ]
  },
  {
   "cell_type": "code",
   "execution_count": 5,
   "metadata": {},
   "outputs": [],
   "source": [
    "#for followees(successor)\n",
    "def jaccard_for_followees(a,b):\n",
    "    try:\n",
    "        if len(set(train_graph.successors(a))) == 0  | len(set(train_graph.successors(b))) == 0:\n",
    "            return 0\n",
    "        jac = (len(set(train_graph.successors(a)).intersection(set(train_graph.successors(b)))))/\\\n",
    "                                    (len(set(train_graph.successors(a)).union(set(train_graph.successors(b)))))\n",
    "        return jac\n",
    "    except:\n",
    "        return 0\n",
    "    \n",
    "\n",
    "#for followers(predecessors)\n",
    "def jaccard_for_followers(a,b):\n",
    "    try:\n",
    "        if len(set(train_graph.predecessors(a))) == 0  | len(set(g.predecessors(b))) == 0:\n",
    "            return 0\n",
    "        jac = (len(set(train_graph.predecessors(a)).intersection(set(train_graph.predecessors(b)))))/\\\n",
    "                                 (len(set(train_graph.predecessors(a)).union(set(train_graph.predecessors(b)))))\n",
    "        return jac\n",
    "    except:\n",
    "        return 0"
   ]
  },
  {
   "cell_type": "code",
   "execution_count": 6,
   "metadata": {},
   "outputs": [
    {
     "name": "stdout",
     "output_type": "stream",
     "text": [
      "0.0\n",
      "0\n",
      "0\n",
      "0\n"
     ]
    }
   ],
   "source": [
    "#one test case\n",
    "print(jaccard_for_followees(273084,1505602))\n",
    "\n",
    "#node 1635354 not in graph \n",
    "print(jaccard_for_followees(273084,1635354))\n",
    "\n",
    "print(jaccard_for_followers(273084,470294))\n",
    "\n",
    "#node 1635354 not in graph \n",
    "print(jaccard_for_followees(669354,1635354))\n"
   ]
  },
  {
   "cell_type": "markdown",
   "metadata": {},
   "source": [
    "## 2.2 Cosine distance"
   ]
  },
  {
   "cell_type": "markdown",
   "metadata": {},
   "source": [
    "\\begin{equation}\n",
    "CosineDistance = \\frac{|X\\cap Y|}{|X|\\cdot|Y|} \n",
    "\\end{equation}"
   ]
  },
  {
   "cell_type": "code",
   "execution_count": 6,
   "metadata": {},
   "outputs": [],
   "source": [
    "#for followees\n",
    "def cosine_for_followees(a,b):\n",
    "    try:\n",
    "        if len(set(train_graph.successors(a))) == 0  | len(set(train_graph.successors(b))) == 0:\n",
    "            return 0\n",
    "        sim = (len(set(train_graph.successors(a)).intersection(set(train_graph.successors(b)))))/\\\n",
    "                                    (math.sqrt(len(set(train_graph.successors(a)))*len((set(train_graph.successors(b))))))\n",
    "        return sim\n",
    "    except:\n",
    "        return 0\n",
    "\n",
    "    \n",
    "def cosine_for_followers(a,b):\n",
    "    try:\n",
    "        \n",
    "        if len(set(train_graph.predecessors(a))) == 0  | len(set(train_graph.predecessors(b))) == 0:\n",
    "            return 0\n",
    "        sim = (len(set(train_graph.predecessors(a)).intersection(set(train_graph.predecessors(b)))))/\\\n",
    "                                     (math.sqrt(len(set(train_graph.predecessors(a))))*(len(set(train_graph.predecessors(b)))))\n",
    "        return sim\n",
    "    except:\n",
    "        return 0"
   ]
  },
  {
   "cell_type": "code",
   "execution_count": 8,
   "metadata": {},
   "outputs": [
    {
     "name": "stdout",
     "output_type": "stream",
     "text": [
      "0.0\n",
      "0\n",
      "0.02886751345948129\n",
      "0\n"
     ]
    }
   ],
   "source": [
    "print(cosine_for_followees(273084,1505602))\n",
    "\n",
    "print(cosine_for_followees(273084,1635354))\n",
    "\n",
    "print(cosine_for_followers(2,470294))\n",
    "\n",
    "print(cosine_for_followers(669354,1635354))"
   ]
  },
  {
   "cell_type": "markdown",
   "metadata": {},
   "source": [
    "## 3. Ranking Measures"
   ]
  },
  {
   "cell_type": "markdown",
   "metadata": {},
   "source": [
    "https://networkx.github.io/documentation/networkx-1.10/reference/generated/networkx.algorithms.link_analysis.pagerank_alg.pagerank.html\n",
    "\n",
    "\n"
   ]
  },
  {
   "cell_type": "markdown",
   "metadata": {},
   "source": [
    "## 3.1 Page Ranking\n",
    "\n",
    "https://en.wikipedia.org/wiki/PageRank\n",
    "\n",
    "PageRank computes a ranking of the nodes in the graph G based on the structure of the incoming links."
   ]
  },
  {
   "cell_type": "code",
   "execution_count": 7,
   "metadata": {},
   "outputs": [],
   "source": [
    "if not os.path.isfile('page_rank.p'):\n",
    "    prank = nx.pagerank(train_graph, alpha=0.85)\n",
    "    pickle.dump(prank,open('page_rank.p','wb'))\n",
    "else:\n",
    "    prank = pickle.load(open('page_rank.p','rb'))"
   ]
  },
  {
   "cell_type": "code",
   "execution_count": 8,
   "metadata": {},
   "outputs": [
    {
     "name": "stdout",
     "output_type": "stream",
     "text": [
      "<class 'dict'>\n"
     ]
    }
   ],
   "source": [
    "print(type(prank))"
   ]
  },
  {
   "cell_type": "code",
   "execution_count": 10,
   "metadata": {},
   "outputs": [
    {
     "name": "stdout",
     "output_type": "stream",
     "text": [
      "minimum page rank value : 1.6556497245737814e-07\n",
      "maximum page rank value : 2.7098251341935827e-05\n",
      "mean page rank value : 5.615699699389075e-07\n"
     ]
    }
   ],
   "source": [
    "print('minimum page rank value :',prank[min(prank, key=prank.get)])\n",
    "print('maximum page rank value :',prank[max(prank, key=prank.get)])\n",
    "print('mean page rank value :',float(sum(prank.values())) / len(prank))"
   ]
  },
  {
   "cell_type": "code",
   "execution_count": 9,
   "metadata": {},
   "outputs": [
    {
     "name": "stdout",
     "output_type": "stream",
     "text": [
      "5.615699699389075e-07\n"
     ]
    }
   ],
   "source": [
    "#for imputing to nodes which are not there in Train data\n",
    "mean_p_rank = float(sum(prank.values())) / len(prank)\n",
    "print(mean_p_rank)"
   ]
  },
  {
   "cell_type": "markdown",
   "metadata": {},
   "source": [
    "# 4. Other Graph Features"
   ]
  },
  {
   "cell_type": "markdown",
   "metadata": {},
   "source": [
    "<h3>4.1 Shortest path:"
   ]
  },
  {
   "cell_type": "markdown",
   "metadata": {},
   "source": [
    "Getting Shortest path between twoo nodes, if nodes have direct path i.e directly connected then we are removing that edge and calculating path. "
   ]
  },
  {
   "cell_type": "code",
   "execution_count": 10,
   "metadata": {},
   "outputs": [],
   "source": [
    "#if has direct edge then deleting that edge and calculating shortest path\n",
    "def shortest_path(x,y):\n",
    "    q = -1\n",
    "    try:\n",
    "        if train_graph.has_edge(x,y):\n",
    "            train_graph.remove_edge(x,y)\n",
    "            q = nx.shortest_path_length(train_graph,source=x,target=y)\n",
    "            train_graph.add_edge(x,y)\n",
    "        else:\n",
    "            q = nx.shortest_path_length(train_graph,source=x,target=y)\n",
    "        return q\n",
    "    except:\n",
    "        return -1"
   ]
  },
  {
   "cell_type": "code",
   "execution_count": 49,
   "metadata": {},
   "outputs": [
    {
     "name": "stdout",
     "output_type": "stream",
     "text": [
      "10\n",
      "-1\n"
     ]
    }
   ],
   "source": [
    "#testing\n",
    "#1)\n",
    "print(shortest_path(669354,1635354))"
   ]
  },
  {
   "cell_type": "markdown",
   "metadata": {},
   "source": [
    "<h3>4.2 Checking for same Weakly Connected Components(Community) "
   ]
  },
  {
   "cell_type": "code",
   "execution_count": 11,
   "metadata": {},
   "outputs": [],
   "source": [
    "weakly_connected_comps = list(nx.weakly_connected_components(train_graph)) #getting weakly connected edges from graph \n",
    "#A Weakly Connected Component (WCC) is a subgraph of the original graph where all vertices are connected to each \n",
    "#other by some path, ignoring the direction of edges\n",
    "\n",
    "#Function to check whether two edges belongs to the same weakly connected component.\n",
    "def belong_to_same_wcc(a,b):\n",
    "    wcc_ind = []\n",
    "    if train_graph.has_edge(b,a):\n",
    "        return 1\n",
    "    if train_graph.has_edge(a,b):\n",
    "            for i in weakly_connected_comps:\n",
    "                if a in i:\n",
    "                    wcc_ind = i\n",
    "                    break\n",
    "            if (b in wcc_ind):\n",
    "                train_graph.remove_edge(a,b)\n",
    "                # if  shortest path between two edges other than the one connecting them exist, we consider them to belong\n",
    "                # to same wcc\n",
    "                if shortest_path(a,b) == -1:\n",
    "                    train_graph.add_edge(a,b)\n",
    "                    return 0\n",
    "                else:\n",
    "                    train_graph.add_edge(a,b)\n",
    "                    return 1\n",
    "            else:\n",
    "                return 0\n",
    "    else:\n",
    "            for i in weakly_connected_comps:\n",
    "                if a in i:\n",
    "                    wcc_ind = i\n",
    "                    break\n",
    "            if(b in wcc_ind):\n",
    "                return 1\n",
    "            else:\n",
    "                return 0"
   ]
  },
  {
   "cell_type": "code",
   "execution_count": null,
   "metadata": {},
   "outputs": [],
   "source": [
    "print(belong_to_same_wcc(1,189226))\n",
    "print(belong_to_same_wcc(1535354,1435354))"
   ]
  },
  {
   "cell_type": "markdown",
   "metadata": {},
   "source": [
    "<h3> 4.3 Adamic/Adar Index:\n",
    "Adamic/Adar measures is defined as inverted sum of degrees of common neighbours for given two vertices.\n",
    "$$A(x,y)=\\sum_{u \\in N(x) \\cap N(y)}\\frac{1}{log(|N(u)|)}$$"
   ]
  },
  {
   "cell_type": "code",
   "execution_count": 12,
   "metadata": {},
   "outputs": [],
   "source": [
    "def adar_index(a,b):\n",
    "    sum = 0\n",
    "    try:\n",
    "        n=list(set(train_graph.successors(a)).intersection(set(train_graph.successors(b))))\n",
    "        if len(n)!=0:\n",
    "            for i in n:\n",
    "                sum=sum+(1/np.log10(len(list(train_graph.predecessors(i)))))\n",
    "            return sum\n",
    "        else:\n",
    "            return 0\n",
    "    except:\n",
    "        return 0"
   ]
  },
  {
   "cell_type": "code",
   "execution_count": 19,
   "metadata": {},
   "outputs": [
    {
     "data": {
      "text/plain": [
       "0"
      ]
     },
     "execution_count": 19,
     "metadata": {},
     "output_type": "execute_result"
    }
   ],
   "source": [
    "#testing\n",
    "adar_index(669354,1635354)"
   ]
  },
  {
   "cell_type": "markdown",
   "metadata": {},
   "source": [
    "<h3> 4.4 Is persion was following back:"
   ]
  },
  {
   "cell_type": "code",
   "execution_count": 13,
   "metadata": {},
   "outputs": [],
   "source": [
    "#if node 'a' follows node 'b', Does \"b\" follows \"a\" back?\n",
    "def follows_back(a,b):\n",
    "    if train_graph.has_edge(b,a):\n",
    "        return 1\n",
    "    else:\n",
    "        return 0"
   ]
  },
  {
   "cell_type": "code",
   "execution_count": null,
   "metadata": {},
   "outputs": [],
   "source": [
    "print(follows_back(1,189226))\n",
    "print(follows_back(669354,1635354))"
   ]
  },
  {
   "cell_type": "markdown",
   "metadata": {},
   "source": [
    "<h3> 4.5 Katz Centrality:\n",
    "https://en.wikipedia.org/wiki/Katz_centrality\n",
    "\n",
    "https://www.geeksforgeeks.org/katz-centrality-centrality-measure/\n",
    " \n",
    "Katz centrality computes the centrality for a node \n",
    "based on the centrality of its neighbors. It is a \n",
    "generalization of the eigenvector centrality. The\n",
    "Katz centrality for node `i` is\n",
    " \n",
    "$$x_i = \\alpha \\sum_{j} A_{ij} x_j + \\beta,$$\n",
    "where `A` is the adjacency matrix of the graph G \n",
    "with eigenvalues $$\\lambda$$.\n",
    "\n",
    "The parameter $$\\beta$$ controls the initial centrality and \n",
    "\n",
    "$$\\alpha < \\frac{1}{\\lambda_{max}}.$$"
   ]
  },
  {
   "cell_type": "code",
   "execution_count": 14,
   "metadata": {},
   "outputs": [],
   "source": [
    "if not os.path.isfile('katz_centrality.p'):\n",
    "    katz = nx.katz.katz_centrality(train_graph , alpha = 0.005 , beta = 1)\n",
    "    pickle.dump(katz,open('katz_centrality.p','wb'))\n",
    "else:\n",
    "    katz = pickle.load(open('katz_centrality.p','rb'))"
   ]
  },
  {
   "cell_type": "code",
   "execution_count": 15,
   "metadata": {},
   "outputs": [
    {
     "name": "stdout",
     "output_type": "stream",
     "text": [
      "Minimum value is : 0.0007313532484065916\n",
      "Maximum value is : 0.003394554981699122\n",
      "Mean value is : 0.0007483800935562018\n"
     ]
    }
   ],
   "source": [
    "print('Minimum value is :',katz[min(katz, key=katz.get)])\n",
    "print('Maximum value is :',katz[max(katz, key=katz.get)])\n",
    "print('Mean value is :',float(sum(katz.values())) / len(katz))"
   ]
  },
  {
   "cell_type": "code",
   "execution_count": 16,
   "metadata": {},
   "outputs": [
    {
     "name": "stdout",
     "output_type": "stream",
     "text": [
      "0.0007483800935562018\n"
     ]
    }
   ],
   "source": [
    "mean_katz = float(sum(katz.values())) / len(katz)\n",
    "print(mean_katz)"
   ]
  },
  {
   "cell_type": "markdown",
   "metadata": {},
   "source": [
    "<h3> 4.6 Hits Score\n",
    "\n",
    "https://en.wikipedia.org/wiki/HITS_algorithm\n",
    "\n",
    "The HITS algorithm computes two numbers for a node. `Authorities` estimates the node value based on the incoming links. `Hubs` estimates the node value based on outgoing links.\n"
   ]
  },
  {
   "cell_type": "code",
   "execution_count": 17,
   "metadata": {},
   "outputs": [],
   "source": [
    "if not os.path.isfile('hit_score.p'):\n",
    "    hit_score = nx.hits(train_graph, max_iter=100, tol=1e-08, nstart=None, normalized=True)\n",
    "    pickle.dump(hit_score , open('hit_score.p','wb'))\n",
    "else:\n",
    "    hit_score = pickle.load(open('hit_score.p','rb'))"
   ]
  },
  {
   "cell_type": "code",
   "execution_count": 18,
   "metadata": {},
   "outputs": [
    {
     "name": "stdout",
     "output_type": "stream",
     "text": [
      "Min hit score is : 0.0\n",
      "Max hit score is : 0.004868653378780953\n",
      "Mean value of hit scores is : 5.615699699344123e-07\n"
     ]
    }
   ],
   "source": [
    "print('Min hit score is :',hit_score[0][min(hit_score[0], key = hit_score[0].get)])\n",
    "print('Max hit score is :',hit_score[0][max(hit_score[0], key = hit_score[0].get)])\n",
    "print('Mean value of hit scores is :',float(sum(hit_score[0].values())) / len(hit_score[0]))"
   ]
  },
  {
   "cell_type": "markdown",
   "metadata": {},
   "source": [
    "# 5. Featurization"
   ]
  },
  {
   "cell_type": "markdown",
   "metadata": {},
   "source": [
    "<b> 5.1 randomly sampling points from the whole train and test datasets <b>"
   ]
  },
  {
   "cell_type": "code",
   "execution_count": 19,
   "metadata": {},
   "outputs": [
    {
     "name": "stdout",
     "output_type": "stream",
     "text": [
      "Number of rows in Train data : 15100029\n",
      "Number of rows in Train data to be eliminated : 15000029\n",
      "Number of rows in the test data : 3775007\n",
      "Number of rows in Test data to be eliminated  : 3725007\n",
      "Train Data size after sampling (100001, 3)\n",
      "   source_node  destination_node  edge_exists\n",
      "0       273084           1505602            1\n",
      "1        81598           1353944            1\n",
      "Test Data size after sampling (50001, 3)\n",
      "   source_node  destination_node  edge_exists\n",
      "0       848424            784690            1\n",
      "1       557644           1022502            1\n"
     ]
    }
   ],
   "source": [
    "#https://stackoverflow.com/a/22259008/4084039\n",
    "len_train =  X_train.shape[0]\n",
    "sample_size = 100000 #desired sample size\n",
    "skipped_train = sorted(random.sample(range(1 , len_train + 1) , len_train - sample_size))\n",
    "\n",
    "len_test = X_test.shape[0]\n",
    "sample_size = 50000 #desired sample size\n",
    "skipped_test = sorted(random.sample(range(1 , len_test + 1), len_test - sample_size))\n",
    "  \n",
    "print(\"Number of rows in Train data :\", len_train)\n",
    "print(\"Number of rows in Train data to be eliminated :\",len(skipped_train))\n",
    "print(\"Number of rows in the test data :\", len_test)\n",
    "print(\"Number of rows in Test data to be eliminated  :\", len(skipped_test))\n",
    "\n",
    "train_df_final = pd.read_csv('after_eda/train_after_eda.csv', skiprows = skipped_train , names = ['source_node', 'destination_node'])\n",
    "train_df_final['edge_exists'] = pd.read_csv('after_eda/train_y.csv', skiprows = skipped_train, names = ['edge_exists'])\n",
    "print(\"Train Data size after sampling\",train_df_final.shape)\n",
    "print(train_df_final.head(2))\n",
    "\n",
    "test_df_final = pd.read_csv('after_eda/test_after_eda.csv', skiprows = skipped_test, names = ['source_node', 'destination_node'])\n",
    "test_df_final['edge_exists'] = pd.read_csv('after_eda/test_y.csv', skiprows = skipped_test, names = ['edge_exists'])\n",
    "print(\"Test Data size after sampling\",test_df_final.shape)\n",
    "print(test_df_final.head(2))"
   ]
  },
  {
   "cell_type": "markdown",
   "metadata": {},
   "source": [
    "<h3> 5.2 Adding a set of features(set 1)\n",
    "\n",
    "__we will create these each of these features for both train and test data points__\n",
    "\n",
    "\n",
    "1) jaccard_followers\n",
    "\n",
    "2)jaccard_followees \n",
    "\n",
    "3) cosine_followers  \n",
    "\n",
    "4) cosine_followees \n",
    "\n",
    "5)  num_followers_s\n",
    "\n",
    "6)  num_followees_s\n",
    "\n",
    "7)  num_followers_d\n",
    "\n",
    "8)  num_followees_d\n",
    "\n",
    "9)  inter_followers\n",
    "\n",
    "10) inter_followees\n",
    "\n",
    "\n",
    "`"
   ]
  },
  {
   "cell_type": "code",
   "execution_count": 20,
   "metadata": {},
   "outputs": [],
   "source": [
    "if not os.path.isfile('DataSamples/sample1.h5'):\n",
    "    #mapping jaccard followers to train and test data\n",
    "    train_df_final['jaccard_followers'] = train_df_final.apply(lambda row: jaccard_for_followers(row['source_node'],row['destination_node']),axis=1)\n",
    "    test_df_final['jaccard_followers'] = test_df_final.apply(lambda row: jaccard_for_followers(row['source_node'],row['destination_node']),axis=1)\n",
    "\n",
    "    #mapping jaccard followees to train and test data\n",
    "    train_df_final['jaccard_followees'] = train_df_final.apply(lambda row: jaccard_for_followees(row['source_node'],row['destination_node']),axis=1)\n",
    "    test_df_final['jaccard_followees'] = test_df_final.apply(lambda row: jaccard_for_followees(row['source_node'],row['destination_node']),axis=1)\n",
    "    \n",
    "\n",
    "    #mapping cosine followers to train and test data\n",
    "    train_df_final['cosine_followers'] = train_df_final.apply(lambda row: cosine_for_followers(row['source_node'],row['destination_node']),axis=1)\n",
    "    test_df_final['cosine_followers'] = test_df_final.apply(lambda row: cosine_for_followers(row['source_node'],row['destination_node']),axis=1)\n",
    "\n",
    "    #mapping cosine followees to train and test data\n",
    "    train_df_final['cosine_followees'] = train_df_final.apply(lambda row: cosine_for_followees(row['source_node'],row['destination_node']),axis=1)\n",
    "    test_df_final['cosine_followees'] = test_df_final.apply(lambda row: cosine_for_followees(row['source_node'],row['destination_node']),axis=1)"
   ]
  },
  {
   "cell_type": "code",
   "execution_count": 21,
   "metadata": {},
   "outputs": [],
   "source": [
    "def compute_features1(df):\n",
    "    #calculating no of followers followees for source and destination\n",
    "    #calculating intersection of followers and followees for source and destination\n",
    "    no_followers_source=[]\n",
    "    no_followees_source=[]\n",
    "    no_followers_dest=[]\n",
    "    no_followees_dest=[]\n",
    "    intersection_followers=[]\n",
    "    intersection_followees=[]\n",
    "    for i,row in df.iterrows():\n",
    "        try:\n",
    "            s_p=set(train_graph.predecessors(row['source_node']))\n",
    "            s_s=set(train_graph.successors(row['source_node']))\n",
    "        except:\n",
    "            s_p = set()\n",
    "            s_s = set()\n",
    "        try:\n",
    "            d_p=set(train_graph.predecessors(row['destination_node']))\n",
    "            d_s=set(train_graph.successors(row['destination_node']))\n",
    "        except:\n",
    "            d_p = set()\n",
    "            d_s = set()\n",
    "        no_followers_source.append(len(s_p))\n",
    "        no_followees_source.append(len(s_s))\n",
    "\n",
    "        no_followers_dest.append(len(d_p))\n",
    "        no_followees_dest.append(len(d_s))\n",
    "\n",
    "        intersection_followers.append(len(s_p.intersection(d_p)))\n",
    "        intersection_followees.append(len(s_s.intersection(d_s)))\n",
    "    \n",
    "    return no_followers_source, no_followers_dest, no_followees_source, no_followees_dest, intersection_followers, intersection_followees"
   ]
  },
  {
   "cell_type": "code",
   "execution_count": 22,
   "metadata": {},
   "outputs": [],
   "source": [
    "from pandas import read_hdf\n",
    "if not os.path.isfile('DataSamples/sample1.h5'):\n",
    "    train_df_final['no_followers_source'], train_df_final['no_followers_dest'], \\\n",
    "    train_df_final['no_followees_source'], train_df_final['no_followees_dest'], \\\n",
    "    train_df_final['intersection_followers'], train_df_final['intersection_followees'] = compute_features1(train_df_final)\n",
    "    \n",
    "    test_df_final['no_followers_source'], test_df_final['no_followers_dest'], \\\n",
    "    test_df_final['no_followees_source'], test_df_final['no_followees_dest'], \\\n",
    "    test_df_final['intersection_followers'], test_df_final['intersection_followees'] = compute_features1(test_df_final)\n",
    "    \n",
    "    hdf = HDFStore('DataSamples/sample1.h5')\n",
    "    hdf.put('train_data', train_df_final, format='table', data_columns=True)\n",
    "    hdf.put('test_data', test_df_final, format='table', data_columns=True)\n",
    "    hdf.close()\n",
    "else:\n",
    "    train_df_final = read_hdf('DataSamples/sample1.h5', 'train_data', mode='r')\n",
    "    test_df_final = read_hdf('DataSamples/sample1.h5', 'test_data', mode='r')"
   ]
  },
  {
   "cell_type": "code",
   "execution_count": 6,
   "metadata": {},
   "outputs": [
    {
     "name": "stdout",
     "output_type": "stream",
     "text": [
      "(100001, 17)\n",
      "(50001, 17)\n"
     ]
    }
   ],
   "source": [
    "print(train_df_final.shape)\n",
    "print(test_df_final.shape)"
   ]
  },
  {
   "cell_type": "markdown",
   "metadata": {},
   "source": [
    "## 5.3 Adding new set of features(set 2)\n",
    "\n",
    "__we will create these each of these features for both train and test data points__\n",
    "<ol>\n",
    "<li>adar index</li>\n",
    "<li>is following back</li>\n",
    "<li>belongs to same weakly connect components</li>\n",
    "<li>shortest path between source and destination</li>\n",
    "</ol>"
   ]
  },
  {
   "cell_type": "code",
   "execution_count": 33,
   "metadata": {},
   "outputs": [],
   "source": [
    "if not os.path.isfile('DataSamples/sample2.h5'):\n",
    "    #calculate adar index\n",
    "    train_df_final['adar_index'] = train_df_final.apply(lambda row: adar_index(row['source_node'],row['destination_node']),axis=1)\n",
    "    test_df_final['adar_index'] = test_df_final.apply(lambda row: adar_index(row['source_node'],row['destination_node']),axis=1)\n",
    "\n",
    "    #followsback or not ?\n",
    "    train_df_final['follows_back'] = train_df_final.apply(lambda row: follows_back(row['source_node'],row['destination_node']),axis=1)\n",
    "    test_df_final['follows_back'] = test_df_final.apply(lambda row: follows_back(row['source_node'],row['destination_node']),axis=1)\n",
    "\n",
    "    #mapping same component of wcc or not?\n",
    "    train_df_final['same_comp'] = train_df_final.apply(lambda row: belong_to_same_wcc(row['source_node'],row['destination_node']),axis=1)\n",
    "    test_df_final['same_comp'] = test_df_final.apply(lambda row: belong_to_same_wcc(row['source_node'],row['destination_node']),axis=1)\n",
    "\n",
    "    \n",
    "    #mapping shortest path\n",
    "    train_df_final['shortest_path'] = train_df_final.apply(lambda row: shortest_path(row['source_node'],row['destination_node']),axis=1)\n",
    "    test_df_final['shortest_path'] = test_df_final.apply(lambda row: shortest_path(row['source_node'],row['destination_node']),axis=1)\n",
    "\n",
    "    hdf = HDFStore('DataSamples/sample2.h5')\n",
    "    hdf.put('train_data', train_df_final, format='table', data_columns=True)\n",
    "    hdf.put('test_data', test_df_final, format='table', data_columns=True)\n",
    "    hdf.close()\n",
    "    \n",
    "else:\n",
    "    train_df_final = read_hdf('DataSamples/sample2.h5', 'train_data', mode = 'r')\n",
    "    test_df_final = read_hdf('DataSamples/sample2.h5', 'test_data', mode = 'r')"
   ]
  },
  {
   "cell_type": "code",
   "execution_count": 34,
   "metadata": {},
   "outputs": [
    {
     "name": "stdout",
     "output_type": "stream",
     "text": [
      "(100001, 17)\n",
      "(50001, 17)\n"
     ]
    }
   ],
   "source": [
    "print(train_df_final.shape)\n",
    "print(test_df_final.shape)"
   ]
  },
  {
   "cell_type": "markdown",
   "metadata": {},
   "source": [
    "## 5.4 Adding new set of features(set 3)\n",
    "\n",
    "__we will create these each of these features for both train and test data points__\n",
    "<ol>\n",
    "<li>Weight Features\n",
    "    <ul>\n",
    "        <li>weight of incoming edges</li>\n",
    "        <li>weight of outgoing edges</li>\n",
    "        <li>weight of incoming edges + weight of outgoing edges</li>\n",
    "        <li>weight of incoming edges * weight of outgoing edges</li>\n",
    "        <li>2*weight of incoming edges + weight of outgoing edges</li>\n",
    "        <li>weight of incoming edges + 2*weight of outgoing edges</li>\n",
    "    </ul>\n",
    "</li>\n",
    "<li>Page Ranking of source</li>\n",
    "<li>Page Ranking of dest</li>\n",
    "<li>katz of source</li>\n",
    "<li>katz of dest</li>\n",
    "<li>hubs of source</li>\n",
    "<li>hubs of dest</li>\n",
    "<li>authorities_s of source</li>\n",
    "<li>authorities_s of dest</li>\n",
    "</ol>"
   ]
  },
  {
   "cell_type": "markdown",
   "metadata": {},
   "source": [
    "#### Weight Features"
   ]
  },
  {
   "cell_type": "markdown",
   "metadata": {},
   "source": [
    "In order to determine the similarity of nodes, an edge weight value was calculated between nodes. Edge weight decreases as the neighbor count goes up. Intuitively, consider one million people following a celebrity on a social network then chances are most of them never met each other or the celebrity. On the other hand, if a user has 30 contacts in his/her social network, the chances are higher that many of them know each other. \n",
    "`credit` - Graph-based Features for Supervised Link Prediction\n",
    "William Cukierski, Benjamin Hamner, Bo Yang"
   ]
  },
  {
   "cell_type": "markdown",
   "metadata": {},
   "source": [
    "\\begin{equation}\n",
    "W = \\frac{1}{\\sqrt{1+|X|}}\n",
    "\\end{equation}"
   ]
  },
  {
   "cell_type": "markdown",
   "metadata": {},
   "source": [
    "it is directed graph so calculated Weighted in and Weighted out differently"
   ]
  },
  {
   "cell_type": "code",
   "execution_count": 27,
   "metadata": {},
   "outputs": [
    {
     "name": "stderr",
     "output_type": "stream",
     "text": [
      "100%|█████████████████████████████| 1780722/1780722 [01:27<00:00, 20258.11it/s]\n"
     ]
    }
   ],
   "source": [
    "#weight for source and destination of each link\n",
    "In_Weight = {}\n",
    "Out_Weight = {}\n",
    "for item in  tqdm(train_graph.nodes()):\n",
    "    set_in = set(train_graph.predecessors(item))\n",
    "    weight_in = 1.0/(np.sqrt(1+len(set_in)))\n",
    "    In_Weight[item] = weight_in\n",
    "    \n",
    "    set_out = set(train_graph.successors(item))\n",
    "    weight_out = 1.0/(np.sqrt(1+len(set_out)))\n",
    "    Out_Weight[item] = weight_out\n",
    "    \n",
    "#for imputing with mean\n",
    "mean_weight_in = np.mean(list(In_Weight.values()))\n",
    "mean_weight_out = np.mean(list(Out_Weight.values()))"
   ]
  },
  {
   "cell_type": "code",
   "execution_count": 28,
   "metadata": {},
   "outputs": [],
   "source": [
    "train_df_final = read_hdf('DataSamples/sample2.h5', 'train_data',mode='r')\n",
    "test_df_final = read_hdf('DataSamples/sample2.h5', 'test_data',mode='r')"
   ]
  },
  {
   "cell_type": "code",
   "execution_count": 24,
   "metadata": {},
   "outputs": [],
   "source": [
    "if not os.path.isfile('DataSamples/sample3.h5'):\n",
    "    #mapping to pandas train\n",
    "    train_df_final['weight_in'] = train_df_final.destination_node.apply(lambda x: In_Weight.get(x,mean_weight_in))\n",
    "    train_df_final['weight_out'] = train_df_final.source_node.apply(lambda x: Out_Weight.get(x,mean_weight_out))\n",
    "\n",
    "    #mapping to pandas test\n",
    "    test_df_final['weight_in'] = test_df_final.destination_node.apply(lambda x: In_Weight.get(x,mean_weight_in))\n",
    "    test_df_final['weight_out'] = test_df_final.source_node.apply(lambda x: Out_Weight.get(x,mean_weight_out))\n",
    "\n",
    "\n",
    "    #some features engineerings on the in and out weights\n",
    "    train_df_final['weight_f1'] = train_df_final.weight_in + train_df_final.weight_out\n",
    "    train_df_final['weight_f2'] = train_df_final.weight_in * train_df_final.weight_out\n",
    "    train_df_final['weight_f3'] = (2*train_df_final.weight_in + 1*train_df_final.weight_out)\n",
    "    train_df_final['weight_f4'] = (1*train_df_final.weight_in + 2*train_df_final.weight_out)\n",
    "\n",
    "    #some features engineerings on the in and out weights\n",
    "    test_df_final['weight_f1'] = test_df_final.weight_in + test_df_final.weight_out\n",
    "    test_df_final['weight_f2'] = test_df_final.weight_in * test_df_final.weight_out\n",
    "    test_df_final['weight_f3'] = (2*test_df_final.weight_in + 1*test_df_final.weight_out)\n",
    "    test_df_final['weight_f4'] = (1*test_df_final.weight_in + 2*test_df_final.weight_out)\n",
    "    \n",
    "    #page rank for source and destination in Train and Test\n",
    "    #if anything not there in train graph then adding mean page rank \n",
    "    train_df_final['page_rank_s'] = train_df_final.source_node.apply(lambda x:prank.get(x,mean_p_rank))\n",
    "    train_df_final['page_rank_d'] = train_df_final.destination_node.apply(lambda x:prank.get(x,mean_p_rank))\n",
    "\n",
    "    test_df_final['page_rank_s'] = test_df_final.source_node.apply(lambda x:prank.get(x,mean_p_rank))\n",
    "    test_df_final['page_rank_d'] = test_df_final.destination_node.apply(lambda x:prank.get(x,mean_p_rank))\n",
    "    #================================================================================\n",
    "\n",
    "    #Katz centrality score for source and destination in Train and test\n",
    "    #if anything not there in train graph then adding mean katz score\n",
    "    train_df_final['katz_s'] = train_df_final.source_node.apply(lambda x: katz.get(x,mean_katz))\n",
    "    train_df_final['katz_d'] = train_df_final.destination_node.apply(lambda x: katz.get(x,mean_katz))\n",
    "\n",
    "    test_df_final['katz_s'] = test_df_final.source_node.apply(lambda x: katz.get(x,mean_katz))\n",
    "    test_df_final['katz_d'] = test_df_final.destination_node.apply(lambda x: katz.get(x,mean_katz))\n",
    "    #================================================================================\n",
    "\n",
    "    #Hits algorithm score for source and destination in Train and test\n",
    "    #if anything not there in train graph then adding 0\n",
    "    train_df_final['hubs_s'] = train_df_final.source_node.apply(lambda x: hit_score[0].get(x,0))\n",
    "    train_df_final['hubs_d'] = train_df_final.destination_node.apply(lambda x: hit_score[0].get(x,0))\n",
    "\n",
    "    test_df_final['hubs_s'] = test_df_final.source_node.apply(lambda x: hit_score[0].get(x,0))\n",
    "    test_df_final['hubs_d'] = test_df_final.destination_node.apply(lambda x: hit_score[0].get(x,0))\n",
    "    #================================================================================\n",
    "\n",
    "    #Hits algorithm score for source and destination in Train and Test\n",
    "    #if anything not there in train graph then adding 0\n",
    "    train_df_final['authorities_s'] = train_df_final.source_node.apply(lambda x: hit_score[1].get(x,0))\n",
    "    train_df_final['authorities_d'] = train_df_final.destination_node.apply(lambda x: hit_score[1].get(x,0))\n",
    "\n",
    "    test_df_final['authorities_s'] = test_df_final.source_node.apply(lambda x: hit_score[1].get(x,0))\n",
    "    test_df_final['authorities_d'] = test_df_final.destination_node.apply(lambda x: hit_score[1].get(x,0))\n",
    "    #================================================================================\n",
    "\n",
    "    hdf = HDFStore('DataSamples/sample3.h5')\n",
    "    hdf.put('train_data',train_df_final, format='table', data_columns=True)\n",
    "    hdf.put('test_data',test_df_final, format='table', data_columns=True)\n",
    "    hdf.close()\n",
    "else:\n",
    "    train_df_final = read_hdf('DataSamples/sample3.h5', 'train_data',mode='r')\n",
    "    test_df_final = read_hdf('DataSamples/sample3.h5', 'test_data',mode='r')"
   ]
  },
  {
   "cell_type": "code",
   "execution_count": 25,
   "metadata": {},
   "outputs": [
    {
     "data": {
      "text/plain": [
       "Index(['source_node', 'destination_node', 'edge_exists', 'jaccard_followers',\n",
       "       'jaccard_followees', 'cosine_followers', 'cosine_followees',\n",
       "       'no_followers_source', 'no_followers_dest', 'no_followees_source',\n",
       "       'no_followees_dest', 'intersection_followers', 'intersection_followees',\n",
       "       'adar_index', 'follows_back', 'same_comp', 'shortest_path', 'weight_in',\n",
       "       'weight_out', 'weight_f1', 'weight_f2', 'weight_f3', 'weight_f4',\n",
       "       'page_rank_s', 'page_rank_d', 'katz_s', 'katz_d', 'hubs_s', 'hubs_d',\n",
       "       'authorities_s', 'authorities_d'],\n",
       "      dtype='object')"
      ]
     },
     "execution_count": 25,
     "metadata": {},
     "output_type": "execute_result"
    }
   ],
   "source": [
    "train_df_final.columns"
   ]
  },
  {
   "cell_type": "markdown",
   "metadata": {},
   "source": [
    "## 5.5 Adding new set of features\n",
    "\n",
    "__we will create these features for both train and test data points__\n",
    "<ol>\n",
    "<li>SVD features for both source nodes </li>\n",
    "<li>SVD features for both destination nodes</li>\n",
    "</ol>"
   ]
  },
  {
   "cell_type": "code",
   "execution_count": 32,
   "metadata": {},
   "outputs": [],
   "source": [
    "def svd(node, mat):\n",
    "    try:\n",
    "        X = node_idx_dict[node]\n",
    "        return mat[X]\n",
    "    except:\n",
    "        return [0,0,0,0,0,0]"
   ]
  },
  {
   "cell_type": "code",
   "execution_count": 33,
   "metadata": {},
   "outputs": [],
   "source": [
    "#for svd features to get feature vector creating a dict of node values and index in svd vector\n",
    "node_idx = sorted(train_graph.nodes())\n",
    "node_idx_dict = { val:idx for idx,val in enumerate(node_idx)}"
   ]
  },
  {
   "cell_type": "code",
   "execution_count": 34,
   "metadata": {},
   "outputs": [
    {
     "name": "stdout",
     "output_type": "stream",
     "text": [
      "dict length :  1780722\n"
     ]
    }
   ],
   "source": [
    "print(\"dict length : \",len(node_idx_dict))"
   ]
  },
  {
   "cell_type": "code",
   "execution_count": 35,
   "metadata": {},
   "outputs": [],
   "source": [
    "Adj_mat = nx.adjacency_matrix(train_graph , nodelist = sorted(train_graph.nodes())).asfptype()"
   ]
  },
  {
   "cell_type": "code",
   "execution_count": 37,
   "metadata": {
    "scrolled": true
   },
   "outputs": [
    {
     "name": "stdout",
     "output_type": "stream",
     "text": [
      "Adjacency matrix Shape (1780722, 1780722)\n",
      "Left Singular matrix Shape (1780722, 6)\n",
      "Right Singular matrix Shape (6, 1780722)\n",
      "s matrix Shape (6,)\n"
     ]
    }
   ],
   "source": [
    "U, s, V = svds(Adj_mat, k = 6)\n",
    "print('Adjacency matrix Shape',Adj_mat.shape)\n",
    "print('Left Singular matrix Shape',U.shape)\n",
    "print('Right Singular matrix Shape',V.shape)\n",
    "print('s matrix Shape',s.shape)"
   ]
  },
  {
   "cell_type": "code",
   "execution_count": 39,
   "metadata": {},
   "outputs": [],
   "source": [
    "if not os.path.isfile('DataSamples/sample_svd_4.h5'):\n",
    "    features_U_s = ['svd_u_s_1', 'svd_u_s_2','svd_u_s_3', 'svd_u_s_4', 'svd_u_s_5', 'svd_u_s_6']\n",
    "    features_U_d = ['svd_u_d_1', 'svd_u_d_2', 'svd_u_d_3', 'svd_u_d_4', 'svd_u_d_5','svd_u_d_6']          \n",
    "    features_V_s =  ['svd_v_s_1', 'svd_v_s_2', 'svd_v_s_3', 'svd_v_s_4', 'svd_v_s_5', 'svd_v_s_6',]\n",
    "    features_V_d =  ['svd_v_d_1', 'svd_v_d_2', 'svd_v_d_3', 'svd_v_d_4', 'svd_v_d_5','svd_v_d_6']\n",
    "                \n",
    "    train_df_final[features_U_s] = train_df_final.source_node.apply(lambda x: svd(x, U)).apply(pd.Series) \n",
    "    train_df_final[features_U_d] = train_df_final.destination_node.apply(lambda x: svd(x, U)).apply(pd.Series)\n",
    "    \n",
    "    train_df_final[features_V_s] = train_df_final.source_node.apply(lambda x: svd(x, V.T)).apply(pd.Series)\n",
    "    train_df_final[features_V_d] = train_df_final.destination_node.apply(lambda x: svd(x, V.T)).apply(pd.Series)\n",
    "    \n",
    "    \n",
    "    test_df_final[features_U_s] = test_df_final.source_node.apply(lambda x: svd(x, U)).apply(pd.Series)\n",
    "    test_df_final[features_U_d] = test_df_final.destination_node.apply(lambda x: svd(x, U)).apply(pd.Series)\n",
    "    \n",
    "    test_df_final[features_V_s] = test_df_final.source_node.apply(lambda x: svd(x, V.T)).apply(pd.Series)\n",
    "    test_df_final[features_V_d] = test_df_final.destination_node.apply(lambda x: svd(x, V.T)).apply(pd.Series)\n",
    "    "
   ]
  },
  {
   "cell_type": "code",
   "execution_count": 62,
   "metadata": {},
   "outputs": [],
   "source": [
    "if not os.path.isfile('DataSamples/sample_svd_4.h5'):\n",
    "    hdf = HDFStore('DataSamples/sample_svd_4.h5')\n",
    "    hdf.put('train_data',train_df_final, format='table', data_columns=True)\n",
    "    hdf.put('test_data',test_df_final, format='table', data_columns=True)\n",
    "    hdf.close()\n",
    "else:\n",
    "    train_df_final = read_hdf('DataSamples/sample_svd_4.h5', 'train_data',mode='r')\n",
    "    test_df_final = read_hdf('DataSamples/sample_svd_4.h5', 'test_data',mode='r')"
   ]
  },
  {
   "cell_type": "code",
   "execution_count": 63,
   "metadata": {},
   "outputs": [
    {
     "data": {
      "text/plain": [
       "Index(['source_node', 'destination_node', 'edge_exists', 'jaccard_followers',\n",
       "       'jaccard_followees', 'cosine_followers', 'cosine_followees',\n",
       "       'no_followers_source', 'no_followers_dest', 'no_followees_source',\n",
       "       'no_followees_dest', 'intersection_followers', 'intersection_followees',\n",
       "       'adar_index', 'follows_back', 'same_comp', 'shortest_path', 'weight_in',\n",
       "       'weight_out', 'weight_f1', 'weight_f2', 'weight_f3', 'weight_f4',\n",
       "       'page_rank_s', 'page_rank_d', 'katz_s', 'katz_d', 'hubs_s', 'hubs_d',\n",
       "       'authorities_s', 'authorities_d', 'svd_u_s_1', 'svd_u_s_2', 'svd_u_s_3',\n",
       "       'svd_u_s_4', 'svd_u_s_5', 'svd_u_s_6', 'svd_u_d_1', 'svd_u_d_2',\n",
       "       'svd_u_d_3', 'svd_u_d_4', 'svd_u_d_5', 'svd_u_d_6', 'svd_v_s_1',\n",
       "       'svd_v_s_2', 'svd_v_s_3', 'svd_v_s_4', 'svd_v_s_5', 'svd_v_s_6',\n",
       "       'svd_v_d_1', 'svd_v_d_2', 'svd_v_d_3', 'svd_v_d_4', 'svd_v_d_5',\n",
       "       'svd_v_d_6'],\n",
       "      dtype='object')"
      ]
     },
     "execution_count": 63,
     "metadata": {},
     "output_type": "execute_result"
    }
   ],
   "source": [
    "train_df_final.columns"
   ]
  },
  {
   "cell_type": "markdown",
   "metadata": {},
   "source": [
    "<div style = \"color:blue;text-align:center\">[New Feature]</div>"
   ]
  },
  {
   "cell_type": "markdown",
   "metadata": {},
   "source": [
    "<h2><div style=\"color:blue\">6. Preferential Attachement </div></h2>"
   ]
  },
  {
   "cell_type": "markdown",
   "metadata": {},
   "source": [
    "http://be.amazd.com/link-prediction/\n",
    "<div style=\"background-color: yellow\">  \n",
    "One well-known concept in social networks is that users with many friends tend to create more connections in the future. This is due to the fact that in some social networks, like in finance, the rich get richer. We estimate how ”rich” our two vertices are by calculating the multiplication between the number of friends (|Γ(x)|) or followers each vertex has.\n",
    "</div>"
   ]
  },
  {
   "cell_type": "markdown",
   "metadata": {},
   "source": [
    "<h3 style=\"color:blue\">6.1 Preferential Attachement for followers </h3>"
   ]
  },
  {
   "cell_type": "code",
   "execution_count": 64,
   "metadata": {},
   "outputs": [],
   "source": [
    "if not os.path.isfile('DataSamples/final_features3.h5'):\n",
    "    preferential_followers_train = []\n",
    "    preferential_followers_test = []\n",
    "\n",
    "    follow_source_train = train_df_final['no_followers_source'].values\n",
    "    follow_dest_train = train_df_final['no_followers_dest'].values\n",
    "    follow_source_test = test_df_final['no_followers_source'].values\n",
    "    follow_dest_test = test_df_final['no_followers_dest'].values\n",
    "\n",
    "    #for train dataset\n",
    "    for i in range(len(follow_source_train)):\n",
    "        preferential_followers_train.append(follow_dest_train[i]*follow_source_train[i])\n",
    "    train_df_final['prefer_followers']= preferential_followers_train\n",
    "\n",
    "    #for test dataset\n",
    "    for i in range(len(follow_source_test)):\n",
    "        preferential_followers_test.append(follow_dest_test[i]*follow_source_test[i])\n",
    "    test_df_final['prefer_followers']= preferential_followers_test\n"
   ]
  },
  {
   "cell_type": "markdown",
   "metadata": {},
   "source": [
    "<h3 style=\"color:blue\">6.2 Preferential Attachement for followees </h3>"
   ]
  },
  {
   "cell_type": "code",
   "execution_count": 65,
   "metadata": {},
   "outputs": [],
   "source": [
    "if not os.path.isfile('DataSamples/final_features3.h5'):\n",
    "    preferential_followees_train = []\n",
    "    preferential_followees_test = []\n",
    "\n",
    "\n",
    "    followee_source_train = train_df_final['no_followees_source'].values\n",
    "    followee_dest_train = train_df_final['no_followees_dest'].values\n",
    "    followee_source_test = test_df_final['no_followees_source'].values\n",
    "    followee_dest_test = test_df_final['no_followees_dest'].values\n",
    "\n",
    "    #for train dataset\n",
    "    for x in range(len(followee_source_train)):\n",
    "        preferential_followees_train.append(followee_dest_train[x]*followee_source_train[x])\n",
    "    train_df_final['prefer_followees'] = preferential_followees_train\n",
    "\n",
    "    #for test dataset\n",
    "    for y in range(len(followee_source_test)):\n",
    "        preferential_followees_test.append(followee_dest_test[y]*followee_source_test[y])\n",
    "    test_df_final['prefer_followees'] = preferential_followees_test"
   ]
  },
  {
   "cell_type": "markdown",
   "metadata": {},
   "source": [
    "<div style = \"color:green;text-align:center\">[New Feature]</div>"
   ]
  },
  {
   "cell_type": "markdown",
   "metadata": {},
   "source": [
    "<h1><div style=\"color:green\">7. svd_dot</div></h1>"
   ]
  },
  {
   "cell_type": "markdown",
   "metadata": {},
   "source": [
    " svd_dot is Dot product between source node svd and destination node svd features\n",
    " \n",
    " //Ref: https://storage.googleapis.com/kaggle-forum-message-attachments/2594/supervised_link_prediction.pdf"
   ]
  },
  {
   "cell_type": "code",
   "execution_count": 66,
   "metadata": {},
   "outputs": [],
   "source": [
    "\n",
    "if not os.path.isfile('DataSamples/final_features3.h5'):\n",
    "    \n",
    "    #taking SVD valued columns into variables from train data.\n",
    "    tssvd_1,tssvd_2,tssvd_3,tssvd_4,tssvd_5,tssvd_6 = train_df_final['svd_u_s_1'], train_df_final['svd_u_s_2'],\\\n",
    "                            train_df_final['svd_u_s_3'] ,train_df_final['svd_u_s_4'],train_df_final['svd_u_s_5'], \\\n",
    "                            train_df_final['svd_u_s_6']\n",
    "\n",
    "    tssvd_7,tssvd_8,tssvd_9,tssvd_10,tssvd_11,tssvd_12 = train_df_final['svd_v_s_1'], train_df_final['svd_v_s_2'],\\\n",
    "                            train_df_final['svd_v_s_3'],train_df_final['svd_v_s_4'],train_df_final['svd_v_s_5'],\\\n",
    "                            train_df_final['svd_v_s_6']\n",
    "\n",
    "\n",
    "    tdsvd_1,tdsvd_2,tdsvd_3,tdsvd_4,tdsvd_5,tdsvd_6 = train_df_final['svd_u_d_1'],train_df_final['svd_u_d_2'],\\\n",
    "                            train_df_final['svd_u_d_3'],train_df_final['svd_u_d_4'],train_df_final['svd_u_d_5'],\\\n",
    "                            train_df_final['svd_u_d_6']\n",
    "\n",
    "\n",
    "    tdsvd_7,tdsvd_8,tdsvd_9,tdsvd_10,tdsvd_11,tdsvd_12 = train_df_final['svd_v_d_1'],train_df_final['svd_v_d_2'],\\\n",
    "                            train_df_final['svd_v_d_3'],train_df_final['svd_v_d_4'],train_df_final['svd_v_d_5'],\\\n",
    "                            train_df_final['svd_v_d_6']\n",
    "    \n",
    "    \n",
    "    #taking SVD valued columns into variables from test data.\n",
    "    ssvd_1,ssvd_2,ssvd_3,ssvd_4,ssvd_5,ssvd_6 = test_df_final['svd_u_s_1'], test_df_final['svd_u_s_2'],\\\n",
    "                        test_df_final['svd_u_s_3'] ,test_df_final['svd_u_s_4'],test_df_final['svd_u_s_5'], \\\n",
    "                        test_df_final['svd_u_s_6']\n",
    "\n",
    "    ssvd_7,ssvd_8,ssvd_9,ssvd_10,ssvd_11,ssvd_12 = test_df_final['svd_v_s_1'], test_df_final['svd_v_s_2'],\\\n",
    "                            test_df_final['svd_v_s_3'],test_df_final['svd_v_s_4'],test_df_final['svd_v_s_5'],\\\n",
    "                            test_df_final['svd_v_s_6']\n",
    "\n",
    "\n",
    "    dsvd_1,dsvd_2,dsvd_3,dsvd_4,dsvd_5,dsvd_6 = test_df_final['svd_u_d_1'],test_df_final['svd_u_d_2'],\\\n",
    "                            test_df_final['svd_u_d_3'],test_df_final['svd_u_d_4'],test_df_final['svd_u_d_5'],\\\n",
    "                            test_df_final['svd_u_d_6']\n",
    "\n",
    "\n",
    "    dsvd_7,dsvd_8,dsvd_9,dsvd_10,dsvd_11,dsvd_12 = test_df_final['svd_v_d_1'],test_df_final['svd_v_d_2'],\\\n",
    "                            test_df_final['svd_v_d_3'],test_df_final['svd_v_d_4'],test_df_final['svd_v_d_5'],\\\n",
    "                            test_df_final['svd_v_d_6']"
   ]
  },
  {
   "cell_type": "markdown",
   "metadata": {},
   "source": [
    "<h3>6.1 Train Data </h3>"
   ]
  },
  {
   "cell_type": "code",
   "execution_count": 67,
   "metadata": {},
   "outputs": [],
   "source": [
    "if not os.path.isfile('DataSamples/final_features.h5'):\n",
    "    train_df_final['svd_dot_1'] = tssvd_1 * tdsvd_1\n",
    "    train_df_final['svd_dot_2'] = tssvd_2 * tdsvd_2\n",
    "    train_df_final['svd_dot_3'] = tssvd_3 * tdsvd_3\n",
    "    train_df_final['svd_dot_4'] = tssvd_4 * tdsvd_4\n",
    "    train_df_final['svd_dot_5'] = tssvd_5 * tdsvd_5\n",
    "    train_df_final['svd_dot_6'] = tssvd_6 * tdsvd_6\n",
    "\n",
    "    train_df_final['svd_dot_7'] = tssvd_7 * tdsvd_7\n",
    "    train_df_final['svd_dot_8'] = tssvd_8 * tdsvd_8\n",
    "    train_df_final['svd_dot_9'] = tssvd_9 * tdsvd_9\n",
    "    train_df_final['svd_dot_10'] = tssvd_10 * tdsvd_10\n",
    "    train_df_final['svd_dot_11'] = tssvd_11 * tdsvd_11\n",
    "    train_df_final['svd_dot_12'] = tssvd_12 * tdsvd_12"
   ]
  },
  {
   "cell_type": "code",
   "execution_count": 68,
   "metadata": {},
   "outputs": [
    {
     "data": {
      "text/plain": [
       "Index(['source_node', 'destination_node', 'edge_exists', 'jaccard_followers',\n",
       "       'jaccard_followees', 'cosine_followers', 'cosine_followees',\n",
       "       'no_followers_source', 'no_followers_dest', 'no_followees_source',\n",
       "       'no_followees_dest', 'intersection_followers', 'intersection_followees',\n",
       "       'adar_index', 'follows_back', 'same_comp', 'shortest_path', 'weight_in',\n",
       "       'weight_out', 'weight_f1', 'weight_f2', 'weight_f3', 'weight_f4',\n",
       "       'page_rank_s', 'page_rank_d', 'katz_s', 'katz_d', 'hubs_s', 'hubs_d',\n",
       "       'authorities_s', 'authorities_d', 'svd_u_s_1', 'svd_u_s_2', 'svd_u_s_3',\n",
       "       'svd_u_s_4', 'svd_u_s_5', 'svd_u_s_6', 'svd_u_d_1', 'svd_u_d_2',\n",
       "       'svd_u_d_3', 'svd_u_d_4', 'svd_u_d_5', 'svd_u_d_6', 'svd_v_s_1',\n",
       "       'svd_v_s_2', 'svd_v_s_3', 'svd_v_s_4', 'svd_v_s_5', 'svd_v_s_6',\n",
       "       'svd_v_d_1', 'svd_v_d_2', 'svd_v_d_3', 'svd_v_d_4', 'svd_v_d_5',\n",
       "       'svd_v_d_6', 'prefer_followers', 'prefer_followees', 'svd_dot_1',\n",
       "       'svd_dot_2', 'svd_dot_3', 'svd_dot_4', 'svd_dot_5', 'svd_dot_6',\n",
       "       'svd_dot_7', 'svd_dot_8', 'svd_dot_9', 'svd_dot_10', 'svd_dot_11',\n",
       "       'svd_dot_12'],\n",
       "      dtype='object')"
      ]
     },
     "execution_count": 68,
     "metadata": {},
     "output_type": "execute_result"
    }
   ],
   "source": [
    "train_df_final.columns"
   ]
  },
  {
   "cell_type": "markdown",
   "metadata": {},
   "source": [
    "<h3>6.2 Test </h3>"
   ]
  },
  {
   "cell_type": "code",
   "execution_count": 69,
   "metadata": {
    "scrolled": true
   },
   "outputs": [],
   "source": [
    "if not os.path.isfile('DataSamples/final_features3.h5'): \n",
    "    test_df_final['svd_dot_1'] = ssvd_1 * dsvd_1\n",
    "    test_df_final['svd_dot_2'] = ssvd_2 * dsvd_2\n",
    "    test_df_final['svd_dot_3'] = ssvd_3 * dsvd_3\n",
    "    test_df_final['svd_dot_4'] = ssvd_4 * dsvd_4\n",
    "    test_df_final['svd_dot_5'] = ssvd_5 * dsvd_5\n",
    "    test_df_final['svd_dot_6'] = ssvd_6 * dsvd_6\n",
    "\n",
    "\n",
    "    test_df_final['svd_dot_7'] = ssvd_7 * dsvd_7\n",
    "    test_df_final['svd_dot_8'] = ssvd_8 * dsvd_8\n",
    "    test_df_final['svd_dot_9'] = ssvd_9 * dsvd_9\n",
    "    test_df_final['svd_dot_10'] = ssvd_10 * dsvd_10\n",
    "    test_df_final['svd_dot_11'] = ssvd_11 * dsvd_11\n",
    "    test_df_final['svd_dot_12'] = ssvd_12 * dsvd_12"
   ]
  },
  {
   "cell_type": "code",
   "execution_count": 70,
   "metadata": {},
   "outputs": [],
   "source": [
    "if not os.path.isfile('DataSamples/final_features3.h5'):\n",
    "    hdf = HDFStore('DataSamples/final_features3.h5')\n",
    "    hdf.put('train_data',train_df_final, format='table', data_columns=True)\n",
    "    hdf.put('test_data',test_df_final, format='table', data_columns=True)\n",
    "    hdf.close()\n",
    "else:\n",
    "    train_df_final = read_hdf('DataSamples/final_features3.h5', 'train_data',mode='r')\n",
    "    test_df_final = read_hdf('DataSamples/final_features3.h5', 'test_data',mode='r')"
   ]
  },
  {
   "cell_type": "code",
   "execution_count": 71,
   "metadata": {},
   "outputs": [
    {
     "data": {
      "text/plain": [
       "Index(['source_node', 'destination_node', 'edge_exists', 'jaccard_followers',\n",
       "       'jaccard_followees', 'cosine_followers', 'cosine_followees',\n",
       "       'no_followers_source', 'no_followers_dest', 'no_followees_source',\n",
       "       'no_followees_dest', 'intersection_followers', 'intersection_followees',\n",
       "       'adar_index', 'follows_back', 'same_comp', 'shortest_path', 'weight_in',\n",
       "       'weight_out', 'weight_f1', 'weight_f2', 'weight_f3', 'weight_f4',\n",
       "       'page_rank_s', 'page_rank_d', 'katz_s', 'katz_d', 'hubs_s', 'hubs_d',\n",
       "       'authorities_s', 'authorities_d', 'svd_u_s_1', 'svd_u_s_2', 'svd_u_s_3',\n",
       "       'svd_u_s_4', 'svd_u_s_5', 'svd_u_s_6', 'svd_u_d_1', 'svd_u_d_2',\n",
       "       'svd_u_d_3', 'svd_u_d_4', 'svd_u_d_5', 'svd_u_d_6', 'svd_v_s_1',\n",
       "       'svd_v_s_2', 'svd_v_s_3', 'svd_v_s_4', 'svd_v_s_5', 'svd_v_s_6',\n",
       "       'svd_v_d_1', 'svd_v_d_2', 'svd_v_d_3', 'svd_v_d_4', 'svd_v_d_5',\n",
       "       'svd_v_d_6', 'prefer_followers', 'prefer_followees', 'svd_dot_1',\n",
       "       'svd_dot_2', 'svd_dot_3', 'svd_dot_4', 'svd_dot_5', 'svd_dot_6',\n",
       "       'svd_dot_7', 'svd_dot_8', 'svd_dot_9', 'svd_dot_10', 'svd_dot_11',\n",
       "       'svd_dot_12'],\n",
       "      dtype='object')"
      ]
     },
     "execution_count": 71,
     "metadata": {},
     "output_type": "execute_result"
    }
   ],
   "source": [
    "test_df_final.columns"
   ]
  },
  {
   "cell_type": "markdown",
   "metadata": {},
   "source": [
    "<h3>6.3 Preparing for Models </h3>"
   ]
  },
  {
   "cell_type": "code",
   "execution_count": 72,
   "metadata": {},
   "outputs": [],
   "source": [
    "y_train = train_df_final.edge_exists\n",
    "y_test = test_df_final.edge_exists"
   ]
  },
  {
   "cell_type": "code",
   "execution_count": 73,
   "metadata": {},
   "outputs": [],
   "source": [
    "train_df_final.drop(['source_node', 'destination_node','edge_exists'] , axis=1 , inplace=True)\n",
    "test_df_final.drop(['source_node', 'destination_node','edge_exists'] , axis=1 , inplace=True)"
   ]
  },
  {
   "cell_type": "code",
   "execution_count": 74,
   "metadata": {},
   "outputs": [
    {
     "name": "stdout",
     "output_type": "stream",
     "text": [
      "train data: (100001, 66)\n",
      "test data: (50001, 66)\n",
      "train y : (100001,)\n",
      "test y : (50001,)\n"
     ]
    }
   ],
   "source": [
    "print(\"train data:\", train_df_final.shape)\n",
    "print(\"test data:\", test_df_final.shape)\n",
    "print(\"train y :\",y_train.shape)\n",
    "print(\"test y :\",y_test.shape)"
   ]
  },
  {
   "cell_type": "code",
   "execution_count": 75,
   "metadata": {},
   "outputs": [],
   "source": [
    "\n",
    "def plot_confusion_matrix(test_y, predict_y):\n",
    "    C = confusion_matrix(test_y, predict_y)\n",
    "    A =(((C.T)/(C.sum(axis=1))).T)\n",
    "    B =(C/C.sum(axis=0))\n",
    "    plt.figure(figsize=(20,4))\n",
    "    labels = [0,1]\n",
    "    # representing A in heatmap format\n",
    "    cmap=sns.light_palette(\"blue\")\n",
    "    plt.subplot(1, 3, 1)\n",
    "    sns.heatmap(C, annot=True, cmap=cmap, fmt=\".3f\", xticklabels=labels, yticklabels=labels)\n",
    "    plt.xlabel('Predicted Class')\n",
    "    plt.ylabel('Original Class')\n",
    "    plt.title(\"Confusion matrix\")\n",
    "    \n",
    "    plt.subplot(1, 3, 2)\n",
    "    sns.heatmap(B, annot=True, cmap=cmap, fmt=\".3f\", xticklabels=labels, yticklabels=labels)\n",
    "    plt.xlabel('Predicted Class')\n",
    "    plt.ylabel('Original Class')\n",
    "    plt.title(\"Precision matrix\")\n",
    "    \n",
    "    plt.subplot(1, 3, 3)\n",
    "    # representing B in heatmap format\n",
    "    sns.heatmap(A, annot=True, cmap=cmap, fmt=\".3f\", xticklabels=labels, yticklabels=labels)\n",
    "    plt.xlabel('Predicted Class')\n",
    "    plt.ylabel('Original Class')\n",
    "    plt.title(\"Recall matrix\")\n",
    "    \n",
    "    plt.show()\n"
   ]
  },
  {
   "cell_type": "markdown",
   "metadata": {},
   "source": [
    "<h2>7. Random Forest with hyperparameter tuning</h2>\n",
    "\n",
    "\n",
    "Hyperparameters: No of estimators(trees) and depth of each estimator"
   ]
  },
  {
   "cell_type": "markdown",
   "metadata": {},
   "source": [
    "<h3> No of Estimators </h3>"
   ]
  },
  {
   "cell_type": "code",
   "execution_count": 29,
   "metadata": {
    "scrolled": false
   },
   "outputs": [
    {
     "name": "stderr",
     "output_type": "stream",
     "text": [
      "\r",
      "  0%|                                                    | 0/7 [00:00<?, ?it/s]"
     ]
    },
    {
     "name": "stdout",
     "output_type": "stream",
     "text": [
      "Estimators =  10 Train Score 0.9161186277384493 test Score 0.9068853290502557\n"
     ]
    },
    {
     "name": "stderr",
     "output_type": "stream",
     "text": [
      "\r",
      " 14%|██████▎                                     | 1/7 [00:02<00:13,  2.31s/it]"
     ]
    },
    {
     "name": "stdout",
     "output_type": "stream",
     "text": [
      "Estimators =  50 Train Score 0.9220595478887853 test Score 0.9167721786106188\n"
     ]
    },
    {
     "name": "stderr",
     "output_type": "stream",
     "text": [
      "\r",
      " 29%|████████████▌                               | 2/7 [00:05<00:13,  2.70s/it]"
     ]
    },
    {
     "name": "stdout",
     "output_type": "stream",
     "text": [
      "Estimators =  100 Train Score 0.9218604358891113 test Score 0.9165032162817673\n"
     ]
    },
    {
     "name": "stderr",
     "output_type": "stream",
     "text": [
      "\r",
      " 43%|██████████████████▊                         | 3/7 [00:12<00:15,  3.89s/it]"
     ]
    },
    {
     "name": "stdout",
     "output_type": "stream",
     "text": [
      "Estimators =  150 Train Score 0.9213471372286026 test Score 0.916093651128454\n"
     ]
    },
    {
     "name": "stderr",
     "output_type": "stream",
     "text": [
      "\r",
      " 57%|█████████████████████████▏                  | 4/7 [00:23<00:17,  5.99s/it]"
     ]
    },
    {
     "name": "stdout",
     "output_type": "stream",
     "text": [
      "Estimators =  250 Train Score 0.9213002297114445 test Score 0.9161846049909218\n"
     ]
    },
    {
     "name": "stderr",
     "output_type": "stream",
     "text": [
      "\r",
      " 71%|███████████████████████████████▍            | 5/7 [00:41<00:19,  9.55s/it]"
     ]
    },
    {
     "name": "stdout",
     "output_type": "stream",
     "text": [
      "Estimators =  450 Train Score 0.9216619824657075 test Score 0.9165083787092145\n"
     ]
    },
    {
     "name": "stderr",
     "output_type": "stream",
     "text": [
      "\r",
      " 86%|█████████████████████████████████████▋      | 6/7 [01:11<00:15, 15.71s/it]"
     ]
    },
    {
     "name": "stdout",
     "output_type": "stream",
     "text": [
      "Estimators =  550 Train Score 0.9221608361551122 test Score 0.9168636056718434\n"
     ]
    },
    {
     "name": "stderr",
     "output_type": "stream",
     "text": [
      "100%|████████████████████████████████████████████| 7/7 [01:48<00:00, 15.53s/it]\n"
     ]
    },
    {
     "data": {
      "text/plain": [
       "Text(0.5, 1.0, 'Estimators vs score at depth of 5')"
      ]
     },
     "execution_count": 29,
     "metadata": {},
     "output_type": "execute_result"
    },
    {
     "data": {
      "image/png": "[encoded data removed]",
      "text/plain": [
       "<Figure size 432x288 with 1 Axes>"
      ]
     },
     "metadata": {},
     "output_type": "display_data"
    }
   ],
   "source": [
    "estimators = [10,50,100,150,250,450,550]\n",
    "train_scores_rf = []\n",
    "test_scores_rf = []\n",
    "\n",
    "for est in tqdm(estimators):\n",
    "    clf = RandomForestClassifier(bootstrap=True, class_weight=None, criterion='gini',\n",
    "            max_depth=5, max_features='auto', max_leaf_nodes=None,\\\n",
    "            min_impurity_decrease=0.0, min_impurity_split=None,\\\n",
    "            min_samples_leaf=52, min_samples_split=120,\\\n",
    "            min_weight_fraction_leaf=0.0, n_estimators = est, n_jobs=-1,random_state=25,verbose=0,warm_start=False)\n",
    "    clf.fit(train_df_final,y_train)\n",
    "    train_score = f1_score(y_train,clf.predict(train_df_final))\n",
    "    test_score = f1_score(y_test,clf.predict(test_df_final))\n",
    "    test_scores_rf.append(test_score)\n",
    "    train_scores_rf.append(train_score)\n",
    "    print('Estimators = ',est,'Train Score',train_score,'test Score',test_score)\n",
    "    \n",
    "plt.plot(estimators,train_scores_rf,label='Train Score')\n",
    "plt.plot(estimators,test_scores_rf,label='Test Score')\n",
    "plt.xlabel('Estimators')\n",
    "plt.ylabel('Score')\n",
    "plt.title('Estimators vs score at depth of 5')"
   ]
  },
  {
   "cell_type": "code",
   "execution_count": 30,
   "metadata": {},
   "outputs": [
    {
     "name": "stdout",
     "output_type": "stream",
     "text": [
      "optimal estimator no : 550\n"
     ]
    }
   ],
   "source": [
    "est_ = [i for i in test_scores_rf]\n",
    "best_est = estimators[np.argmax(est_)]\n",
    "print(\"optimal estimator no :\",best_est)"
   ]
  },
  {
   "cell_type": "markdown",
   "metadata": {},
   "source": [
    "<h3> Depth </h3>"
   ]
  },
  {
   "cell_type": "code",
   "execution_count": 31,
   "metadata": {},
   "outputs": [
    {
     "name": "stdout",
     "output_type": "stream",
     "text": [
      "depth =  3 Train Score 0.8910689980106796 test Score 0.8672813036020584\n",
      "depth =  5 Train Score 0.9221608361551122 test Score 0.9168636056718434\n",
      "depth =  7 Train Score 0.9375684099698737 test Score 0.9211736044910497\n",
      "depth =  9 Train Score 0.9585888316572644 test Score 0.9227416966363444\n",
      "depth =  11 Train Score 0.9626125345377801 test Score 0.9237700410338848\n",
      "depth =  15 Train Score 0.9648620854673007 test Score 0.9245634064865322\n",
      "depth =  20 Train Score 0.9649306864133148 test Score 0.9242904876707694\n",
      "depth =  35 Train Score 0.9648645620040138 test Score 0.9240436696005417\n",
      "depth =  50 Train Score 0.9648645620040138 test Score 0.9240436696005417\n"
     ]
    },
    {
     "data": {
      "image/png": "[encoded data removed]",
      "text/plain": [
       "<Figure size 432x288 with 1 Axes>"
      ]
     },
     "metadata": {},
     "output_type": "display_data"
    }
   ],
   "source": [
    "depths = [3,5,7,9,11,15,20,35,50]\n",
    "train_scores_rf = []\n",
    "test_scores_rf = []\n",
    "for dep in depths:\n",
    "    clf = RandomForestClassifier(bootstrap=True, class_weight=None, criterion='gini',\\\n",
    "            max_depth=dep, max_features='auto', max_leaf_nodes=None,\\\n",
    "            min_impurity_decrease=0.0, min_impurity_split=None,\\\n",
    "            min_samples_leaf=52, min_samples_split=120,\\\n",
    "            min_weight_fraction_leaf=0.0, n_estimators=best_est, n_jobs=-1,random_state=25,verbose=0,warm_start=False)\n",
    "    clf.fit(train_df_final,y_train)\n",
    "    train_score = f1_score(y_train,clf.predict(train_df_final))\n",
    "    test_score = f1_score(y_test,clf.predict(test_df_final))\n",
    "    test_scores_rf.append(test_score)\n",
    "    train_scores_rf.append(train_score)\n",
    "    print('depth = ',dep,'Train Score',train_score,'test Score',test_score)\n",
    "plt.plot(depths,train_scores_rf,label='Train Score')\n",
    "plt.plot(depths,test_scores_rf,label='Test Score')\n",
    "plt.xlabel('Depth')\n",
    "plt.ylabel('Score')\n",
    "plt.title('Depth vs score')\n",
    "plt.show()"
   ]
  },
  {
   "cell_type": "code",
   "execution_count": 32,
   "metadata": {},
   "outputs": [
    {
     "name": "stdout",
     "output_type": "stream",
     "text": [
      "optimal depth : 15\n"
     ]
    }
   ],
   "source": [
    "dep_ = [i for i in test_scores_rf]\n",
    "best_dep = depths[np.argmax(dep_)]\n",
    "print(\"optimal depth :\",best_dep)"
   ]
  },
  {
   "cell_type": "markdown",
   "metadata": {},
   "source": [
    "<h3>Testing the model with optimal no of estimators and estimator depths</h3>"
   ]
  },
  {
   "cell_type": "code",
   "execution_count": 33,
   "metadata": {},
   "outputs": [
    {
     "name": "stdout",
     "output_type": "stream",
     "text": [
      "Train f1 score for Random Forest Classifier is: 0.9213002297114445\n",
      "Test f1 score for Random Forest Classifier is: 0.9161846049909218\n"
     ]
    }
   ],
   "source": [
    "clf1 = RandomForestClassifier(bootstrap=True, class_weight=None, criterion='gini',\\\n",
    "            max_depth=5, max_features='auto', max_leaf_nodes=None,\\\n",
    "            min_impurity_decrease=0.0, min_impurity_split=None,\\\n",
    "            min_samples_leaf=52, min_samples_split=120,\\\n",
    "            min_weight_fraction_leaf=0.0, n_estimators=250, n_jobs=-1,random_state=25,verbose=0,warm_start=False)\n",
    "clf1.fit(train_df_final,y_train)\n",
    "y_pred1_tr = clf1.predict(train_df_final)\n",
    "y_pred1_te = clf1.predict(test_df_final)\n",
    "train_score = f1_score(y_train,clf1.predict(train_df_final))\n",
    "test_score = f1_score(y_test,clf1.predict(test_df_final))\n",
    "\n",
    "print(\"Train f1 score for Random Forest Classifier is:\",train_score)\n",
    "print(\"Test f1 score for Random Forest Classifier is:\",test_score)"
   ]
  },
  {
   "cell_type": "markdown",
   "metadata": {},
   "source": [
    " <h2>Random Forest hyperparameter tuning using RandomizedSearchCV </h2>"
   ]
  },
  {
   "cell_type": "code",
   "execution_count": 34,
   "metadata": {},
   "outputs": [
    {
     "name": "stdout",
     "output_type": "stream",
     "text": [
      "mean test scores [0.96028299 0.96088241 0.96213302 0.96154282 0.96278208]\n",
      "mean train scores [0.96106416 0.96150398 0.96310434 0.96240768 0.96368211]\n"
     ]
    }
   ],
   "source": [
    "from sklearn.metrics import f1_score\n",
    "from sklearn.ensemble import RandomForestClassifier\n",
    "from sklearn.metrics import f1_score\n",
    "from sklearn.model_selection import RandomizedSearchCV\n",
    "from scipy.stats import randint as randint\n",
    "from scipy.stats import uniform\n",
    "\n",
    "params = {\"n_estimators\" : randint(150,250),\n",
    "              \"max_depth\" : randint(10,15),\n",
    "              \"min_samples_split\" : randint(120,200),\n",
    "              \"min_samples_leaf\" : randint(30,65)\n",
    "         }\n",
    "\n",
    "clf = RandomForestClassifier(random_state = 100,n_jobs=-1)\n",
    "\n",
    "rand_search = RandomizedSearchCV(clf, param_distributions = params,return_train_score=True,\\\n",
    "                                   n_iter = 5,cv = 10,scoring = 'f1',random_state = 100)\n",
    "\n",
    "rand_search.fit(train_df_final,y_train)\n",
    "print('mean test scores',rand_search.cv_results_['mean_test_score'])\n",
    "print('mean train scores',rand_search.cv_results_['mean_train_score'])"
   ]
  },
  {
   "cell_type": "code",
   "execution_count": 35,
   "metadata": {},
   "outputs": [
    {
     "name": "stdout",
     "output_type": "stream",
     "text": [
      "RandomForestClassifier(bootstrap=True, class_weight=None, criterion='gini',\n",
      "                       max_depth=12, max_features='auto', max_leaf_nodes=None,\n",
      "                       min_impurity_decrease=0.0, min_impurity_split=None,\n",
      "                       min_samples_leaf=46, min_samples_split=129,\n",
      "                       min_weight_fraction_leaf=0.0, n_estimators=243,\n",
      "                       n_jobs=-1, oob_score=False, random_state=100, verbose=0,\n",
      "                       warm_start=False)\n"
     ]
    }
   ],
   "source": [
    "print(rand_search.best_estimator_)"
   ]
  },
  {
   "cell_type": "code",
   "execution_count": 93,
   "metadata": {},
   "outputs": [
    {
     "name": "stdout",
     "output_type": "stream",
     "text": [
      "Train f1 score 0.9632732090084583\n",
      "Test f1 score 0.921227285256886\n"
     ]
    }
   ],
   "source": [
    "clf = RandomForestClassifier(bootstrap=True, class_weight=None, criterion='gini',\n",
    "                       max_depth=12, max_features='auto', max_leaf_nodes=None,\n",
    "                       min_impurity_decrease=0.0, min_impurity_split=None,\n",
    "                       min_samples_leaf=46, min_samples_split=129,\n",
    "                       min_weight_fraction_leaf=0.0, n_estimators=243,\n",
    "                       n_jobs=-1, oob_score=False, random_state=100, verbose=0,\n",
    "                       warm_start=False)\n",
    "\n",
    "clf.fit(train_df_final,y_train)\n",
    "y_pred_tr = clf.predict(train_df_final)\n",
    "y_pred_te = clf.predict(test_df_final)\n",
    "\n",
    "print('Train f1 score',f1_score(y_train,y_pred_tr))\n",
    "print('Test f1 score',f1_score(y_test,y_pred_te))"
   ]
  },
  {
   "cell_type": "code",
   "execution_count": 94,
   "metadata": {},
   "outputs": [
    {
     "name": "stdout",
     "output_type": "stream",
     "text": [
      "Train confusion_matrix\n"
     ]
    },
    {
     "data": {
      "image/png": "[encoded data removed]",
      "text/plain": [
       "<Figure size 1440x288 with 6 Axes>"
      ]
     },
     "metadata": {
      "needs_background": "light"
     },
     "output_type": "display_data"
    },
    {
     "name": "stdout",
     "output_type": "stream",
     "text": [
      "Test confusion_matrix\n"
     ]
    },
    {
     "data": {
      "image/png": "[encoded data removed]",
      "text/plain": [
       "<Figure size 1440x288 with 6 Axes>"
      ]
     },
     "metadata": {
      "needs_background": "light"
     },
     "output_type": "display_data"
    }
   ],
   "source": [
    "print('Train confusion_matrix')\n",
    "plot_confusion_matrix(y_train,y_pred_tr)\n",
    "print('Test confusion_matrix')\n",
    "plot_confusion_matrix(y_test,y_pred_te)"
   ]
  },
  {
   "cell_type": "code",
   "execution_count": 95,
   "metadata": {},
   "outputs": [
    {
     "data": {
      "image/png": "[encoded data removed]",
      "text/plain": [
       "<Figure size 432x288 with 1 Axes>"
      ]
     },
     "metadata": {
      "needs_background": "light"
     },
     "output_type": "display_data"
    }
   ],
   "source": [
    "fpr,tpr,thresh = roc_curve(y_test,y_pred_te)\n",
    "auc_score = auc(fpr, tpr)\n",
    "plt.plot(fpr, tpr, color='navy',label='ROC curve (area = %0.2f)' % auc_score)\n",
    "plt.xlabel('False Positive Rate')\n",
    "plt.ylabel('True Positive Rate')\n",
    "plt.title('Receiver operating characteristic with test data')\n",
    "plt.legend()\n",
    "plt.show()"
   ]
  },
  {
   "cell_type": "markdown",
   "metadata": {},
   "source": [
    "<h3>Feature Importance:Random Forest (hyperparameter tuning using RandomSearchcv) </h3>"
   ]
  },
  {
   "cell_type": "code",
   "execution_count": 96,
   "metadata": {},
   "outputs": [
    {
     "data": {
      "image/png": "[encoded data removed]",
      "text/plain": [
       "<Figure size 720x864 with 1 Axes>"
      ]
     },
     "metadata": {
      "needs_background": "light"
     },
     "output_type": "display_data"
    }
   ],
   "source": [
    "feat = train_df_final.columns\n",
    "clf_feat_imp = clf.feature_importances_\n",
    "imp_idx = (np.argsort(clf_feat_imp))[-25:]\n",
    "plt.figure(figsize=(10,12))\n",
    "plt.title('Feature Importances')\n",
    "plt.barh(range(len(imp_idx)), clf_feat_imp[imp_idx], color='r', align='center')\n",
    "plt.yticks(range(len(imp_idx)), [feat[i] for i in imp_idx])\n",
    "plt.xlabel('Relative Importance')\n",
    "plt.ylabel('Top 25 Important Features')\n",
    "plt.show()"
   ]
  },
  {
   "cell_type": "markdown",
   "metadata": {},
   "source": [
    "<h2> XGBOOST </h2>"
   ]
  },
  {
   "cell_type": "markdown",
   "metadata": {},
   "source": [
    "<h3>Hyperparameter tuning using RandomizedSearchCV </h3>"
   ]
  },
  {
   "cell_type": "code",
   "execution_count": 70,
   "metadata": {},
   "outputs": [
    {
     "name": "stdout",
     "output_type": "stream",
     "text": [
      "Mean test scores :\n",
      " [0.98108792 0.98097069 0.9806272  0.98057954 0.98071017]\n",
      "\n",
      " Mean train scores : \n",
      " [0.99811247 1.         0.99603833 1.         0.9995387 ]\n"
     ]
    }
   ],
   "source": [
    "clf = xgb.XGBClassifier(n_jobs = -1)\n",
    "\n",
    "params = {\"n_estimators\": randint(105,200),\n",
    "              \"max_depth\": randint(10,15)\n",
    "              }\n",
    "xg_optclf = RandomizedSearchCV(clf, param_distributions = params, n_iter=5,cv=3, scoring='f1',return_train_score=True, random_state=100)\n",
    "xg_optclf.fit(train_df_final,y_train)\n",
    "\n",
    "print('Mean test scores :\\n',xg_optclf.cv_results_['mean_test_score'])\n",
    "print('\\n Mean train scores : \\n',xg_optclf.cv_results_['mean_train_score'])"
   ]
  },
  {
   "cell_type": "code",
   "execution_count": 88,
   "metadata": {},
   "outputs": [
    {
     "name": "stdout",
     "output_type": "stream",
     "text": [
      "Train f1 score 0.9810128505027798\n",
      "Test f1 score 0.9272219974015463\n"
     ]
    }
   ],
   "source": [
    "clf = xgb.XGBClassifier(base_score=0.5, booster='gbtree', colsample_bylevel=1,\n",
    "              colsample_bynode=1, colsample_bytree=1, gamma=0,\n",
    "              learning_rate=0.1, max_delta_step=0, max_depth=5,\n",
    "              min_child_weight=1, missing=None, n_estimators=150, n_jobs=-1,\n",
    "              nthread=None, objective='binary:logistic', random_state=0,\n",
    "              reg_alpha=0, reg_lambda=1, scale_pos_weight=1, seed=None,\n",
    "              silent=None, subsample=1, verbosity=1)\n",
    "\n",
    "\n",
    "clf.fit(train_df_final,y_train)\n",
    "y_pred_tr = clf.predict(train_df_final)\n",
    "y_pred_te = clf.predict(test_df_final)\n",
    "\n",
    "print('Train f1 score',f1_score(y_train,y_pred_tr))\n",
    "print('Test f1 score',f1_score(y_test,y_pred_te))"
   ]
  },
  {
   "cell_type": "code",
   "execution_count": 89,
   "metadata": {},
   "outputs": [
    {
     "name": "stdout",
     "output_type": "stream",
     "text": [
      "Train confusion_matrix\n"
     ]
    },
    {
     "data": {
      "image/png": "[encoded data removed]",
      "text/plain": [
       "<Figure size 1440x288 with 6 Axes>"
      ]
     },
     "metadata": {
      "needs_background": "light"
     },
     "output_type": "display_data"
    },
    {
     "name": "stdout",
     "output_type": "stream",
     "text": [
      "Test confusion_matrix\n"
     ]
    },
    {
     "data": {
      "image/png": "[encoded data removed]",
      "text/plain": [
       "<Figure size 1440x288 with 6 Axes>"
      ]
     },
     "metadata": {
      "needs_background": "light"
     },
     "output_type": "display_data"
    }
   ],
   "source": [
    "print('Train confusion_matrix')\n",
    "plot_confusion_matrix(y_train,y_pred_tr)\n",
    "print('Test confusion_matrix')\n",
    "plot_confusion_matrix(y_test,y_pred_te)"
   ]
  },
  {
   "cell_type": "code",
   "execution_count": 90,
   "metadata": {},
   "outputs": [
    {
     "data": {
      "image/png": "[encoded data removed]",
      "text/plain": [
       "<Figure size 432x288 with 1 Axes>"
      ]
     },
     "metadata": {
      "needs_background": "light"
     },
     "output_type": "display_data"
    }
   ],
   "source": [
    "from sklearn.metrics import roc_curve, auc\n",
    "fpr,tpr,ths = roc_curve(y_test,y_pred_te)\n",
    "auc_scale = auc(fpr, tpr)\n",
    "plt.plot(fpr, tpr, color='navy',label='ROC curve (area = %0.2f)' % auc_scale)\n",
    "plt.xlabel('False Positive Rate')\n",
    "plt.ylabel('True Positive Rate')\n",
    "plt.title('Receiver operating characteristic with test data')\n",
    "plt.legend()\n",
    "plt.show()"
   ]
  },
  {
   "cell_type": "code",
   "execution_count": 91,
   "metadata": {},
   "outputs": [
    {
     "data": {
      "image/png": "[encoded data removed]",
      "text/plain": [
       "<Figure size 720x864 with 1 Axes>"
      ]
     },
     "metadata": {
      "needs_background": "light"
     },
     "output_type": "display_data"
    }
   ],
   "source": [
    "feat = train_df_final.columns\n",
    "clf_feat_imp = clf.feature_importances_\n",
    "imp_idx = (np.argsort(clf_feat_imp))[-25:]\n",
    "plt.figure(figsize=(10,12))\n",
    "plt.title('Feature Importances')\n",
    "plt.barh(range(len(imp_idx)), clf_feat_imp[imp_idx], color='r', align='center')\n",
    "plt.yticks(range(len(imp_idx)), [feat[i] for i in imp_idx])\n",
    "plt.xlabel('Relative Importance')\n",
    "plt.ylabel('Top 25 Important Features')\n",
    "plt.show()\n"
   ]
  },
  {
   "cell_type": "markdown",
   "metadata": {},
   "source": [
    "<h2><div style = \"color:blue;\">Pretty Table</div></h2>"
   ]
  },
  {
   "cell_type": "code",
   "execution_count": null,
   "metadata": {},
   "outputs": [],
   "source": [
    "Train f1 score 732090084583\n",
    "Test f1 score 27285256886"
   ]
  },
  {
   "cell_type": "code",
   "execution_count": 97,
   "metadata": {},
   "outputs": [
    {
     "name": "stdout",
     "output_type": "stream",
     "text": [
      "+---------------+--------------+-----------+----------------+---------------+\n",
      "|     Model     | n_estimators | max_depth | Train f1-Score | Test f1-Score |\n",
      "+---------------+--------------+-----------+----------------+---------------+\n",
      "| Random Forest |     243      |     12    |     0.9632     |     0.9212    |\n",
      "|    XGBOOST    |     150      |     12    |     0.9810     |     0.9272    |\n",
      "+---------------+--------------+-----------+----------------+---------------+\n"
     ]
    }
   ],
   "source": [
    "from prettytable import PrettyTable \n",
    "y = PrettyTable()\n",
    "y.field_names = [\"Model\", \"n_estimators\", \"max_depth\", \"Train f1-Score\",\"Test f1-Score\"]\n",
    "y.add_row(['Random Forest','243','12','0.9632','0.9212'])\n",
    "y.add_row(['XGBOOST','150','12','0.9810','0.9272'])\n",
    "print(y)"
   ]
  },
  {
   "cell_type": "markdown",
   "metadata": {},
   "source": [
    "<h2><div style = \"color:blue;\">Observations</div></h2>"
   ]
  },
  {
   "cell_type": "markdown",
   "metadata": {},
   "source": [
    "1) First we performed exploratory data analysis on our given data set such as number of followers and followees of each person etc.\n",
    "\n",
    "2) Since we had only class 1 labelled data. Then after we generated \"missing links\" or datapoints which were not present in our given data-set.\n",
    "\n",
    "3) We did lots of feature engineering on data like finding shortest path, kartz centrality, jaccard distances, page rank, preferential attachements etc as only edge information was present initially.\n",
    "\n",
    "4) Then we splitted whole dataset into train and test, joined the edges and missing links data together in both train and test set and performed Random forest and xgboost taking f1-score as our metric.\n",
    "\n",
    "5) We also showed the top 25 important features that were used in the classification.\n",
    "\n",
    "6) Although among the top 25 features in xgbClassifier only a few of them(eg follows back, cosine followers etc) were usful.The Model may be underfitting also.\n",
    "\n",
    "7) At the end we plotted confusion matrix and pretty-table for both algorithm and found best hyperparameters."
   ]
  },
  {
   "cell_type": "code",
   "execution_count": null,
   "metadata": {},
   "outputs": [],
   "source": []
  }
 ],
 "metadata": {
  "kernelspec": {
   "display_name": "Python 3",
   "language": "python",
   "name": "python3"
  },
  "language_info": {
   "codemirror_mode": {
    "name": "ipython",
    "version": 3
   },
   "file_extension": ".py",
   "mimetype": "text/x-python",
   "name": "python",
   "nbconvert_exporter": "python",
   "pygments_lexer": "ipython3",
   "version": "3.8.1"
  }
 },
 "nbformat": 4,
 "nbformat_minor": 2
}
